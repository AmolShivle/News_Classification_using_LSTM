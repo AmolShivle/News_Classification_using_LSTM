{
  "cells": [
    {
      "cell_type": "markdown",
      "metadata": {
        "id": "PWQ5ejIQHSXl"
      },
      "source": [
        "\n",
        "<h1><center><strong>Predict the categories of the NEWS Article</strong></center></h1>"
      ]
    },
    {
      "cell_type": "markdown",
      "metadata": {
        "id": "zviUbtTGGCdk"
      },
      "source": [
        "\n",
        "---\n",
        "# **Table of Contents**\n",
        "---\n",
        "\n",
        "**1.** [**Introduction**](#Section1)<br>\n",
        "**2.** [**Problem Statement**](#Section2)<br>\n",
        "**3.** [**Installing & Importing Libraries**](#Section3)<br>\n",
        "  - **3.1** [**Installing Libraries**](#Section31)<br>\n",
        "  - **3.2** [**Importing Libraries**](#Section32)<br>\n",
        "\n",
        "**4.** [**Data Acquisition & Description**](#Section4)<br>\n",
        "  - **4.1** [**Data Information**](#Section41)\n",
        "  - **4.2** [**Data Statistics**](#Section42)\n",
        "\n",
        "**5.** [**Data Pre-processing**](#Section5)<br>\n",
        "**6.** [**Model Development & Evaluation**](#Section6)<br>\n",
        "\n"
      ]
    },
    {
      "cell_type": "markdown",
      "metadata": {
        "id": "x3RiHnOtGDFC"
      },
      "source": [
        "---\n",
        "<a name = Section1></a>\n",
        "# **1. Introduction**\n",
        "---"
      ]
    },
    {
      "cell_type": "markdown",
      "metadata": {
        "id": "aqB2FccYHuoi"
      },
      "source": [
        "The News Agency trying to cope up with the changing world.\n",
        "\n",
        "- They want to maintain a central database of all the news.\n",
        "- And, extra emphasis on categorizing the news into different sections.\n",
        "- The idea is to create a mobile app for reading news.\n",
        "- They are planning on creating a user-friendly app that shows only what the user wants to see."
      ]
    },
    {
      "cell_type": "markdown",
      "metadata": {
        "id": "rxm32XgOIQNl"
      },
      "source": [
        "---\n",
        "<a name = Section2></a>\n",
        "# **2. Problem Statement**\n",
        "---"
      ]
    },
    {
      "cell_type": "markdown",
      "metadata": {
        "id": "J-hksw9eIWGR"
      },
      "source": [
        "The current practice suffers from the following problems:\n",
        "\n",
        "- This approach is too haphazard.\n",
        "- Nowadays not many people listen to the news on the radio and TV or read any newspaper.\n",
        "With evolving technologies, people prefer using phones over other gadgets.\n",
        "- Reading out news seems to take a lot of manual effort which the company wants to cut down.\n",
        "\n",
        "The Admin Department has hired you as an AI Engineer. They want to supplement their security protocols with a more proactive approach.\n",
        "\n",
        "**<h4>Consulting Goal :</h4>**\n",
        "\n",
        "**Your Role**\n",
        "\n",
        "- You will be provided with a dataset consisting of different news categories, headlines of the news, a short description of the news, date of the news, and links to the news.\n",
        "- You have to build a model using the provided data from the database.\n",
        "- The model should be able to classify the category of the news article given a text sequence.\n",
        "- his model will then be used to distribute news articles to people with specific subscriptions.\n",
        "\n",
        "\n",
        "**Problem Specifics**\n",
        "\n",
        "- Deliverables:Predict whether the news article belongs to one of the many categories as subscribed by the customers.\n",
        "- Deep Learning task: Build a Text Classification model to classify the texts\n",
        "- Target: Predict the categories of the news article.\n",
        "- Win Condition: The model should be able to classify the article based on the type of text provided."
      ]
    },
    {
      "cell_type": "markdown",
      "metadata": {
        "id": "SN7mS4FHJd1n"
      },
      "source": [
        "---\n",
        "<a name = Section3></a>\n",
        "# **3. Installing & Importing Libraries**\n",
        "---"
      ]
    },
    {
      "cell_type": "code",
      "execution_count": 1,
      "metadata": {
        "colab": {
          "base_uri": "https://localhost:8080/"
        },
        "id": "QAM3qkkJJpSN",
        "outputId": "0567a9f8-db7d-4d77-ebf0-0754859537b9"
      },
      "outputs": [
        {
          "output_type": "stream",
          "name": "stderr",
          "text": [
            "[nltk_data] Downloading package wordnet to /root/nltk_data...\n",
            "[nltk_data] Downloading package punkt to /root/nltk_data...\n",
            "[nltk_data]   Unzipping tokenizers/punkt.zip.\n",
            "[nltk_data] Downloading package stopwords to /root/nltk_data...\n",
            "[nltk_data]   Unzipping corpora/stopwords.zip.\n"
          ]
        },
        {
          "output_type": "execute_result",
          "data": {
            "text/plain": [
              "True"
            ]
          },
          "metadata": {},
          "execution_count": 1
        }
      ],
      "source": [
        "import pandas as pd\n",
        "import numpy as np\n",
        "from google.colab import drive\n",
        "import nltk\n",
        "from nltk.corpus import stopwords\n",
        "from nltk.stem import WordNetLemmatizer\n",
        "import re\n",
        "import pickle\n",
        "\n",
        "#Data Visualization\n",
        "import matplotlib.pyplot as plt\n",
        "\n",
        "#Text Color\n",
        "from termcolor import colored\n",
        "\n",
        "#Train Test Split\n",
        "from sklearn.model_selection import train_test_split\n",
        "\n",
        "#Model Evaluation\n",
        "from sklearn.metrics import confusion_matrix, precision_score, recall_score, accuracy_score\n",
        "from mlxtend.plotting import plot_confusion_matrix\n",
        "\n",
        "#Deep Learning\n",
        "import tensorflow as tf\n",
        "from tensorflow.keras.models import Model, Sequential\n",
        "from tensorflow.keras.layers import Embedding, LSTM, Dense, Dropout, GlobalMaxPooling1D, Bidirectional\n",
        "from tensorflow.keras.preprocessing.text import Tokenizer\n",
        "from tensorflow.keras.optimizers import Adam\n",
        "from tensorflow.keras.preprocessing.sequence import pad_sequences\n",
        "from tensorflow.keras.callbacks import ModelCheckpoint, EarlyStopping\n",
        "from tensorflow.keras.utils import plot_model\n",
        "from keras.models import load_model\n",
        "\n",
        "nltk.download('wordnet')\n",
        "nltk.download('punkt')\n",
        "nltk.download(\"stopwords\")\n"
      ]
    },
    {
      "cell_type": "markdown",
      "metadata": {
        "id": "d_Fup-d5KNgU"
      },
      "source": [
        "<a name = Section4></a>\n",
        "## **4. Data Loading and Dataset Description**"
      ]
    },
    {
      "cell_type": "markdown",
      "metadata": {
        "id": "832L5RGlKPX-"
      },
      "source": [
        "\n",
        "  Column    \t    Description\n",
        "- REF_NO\t :    Contains a unique number for each row.\n",
        "- category :\t  Contains 41 different categories for the news.\n",
        "- Headline :\t  Contains Headline of the news.\n",
        "- author   :\t  Contains the name of the author who wrote the news.\n",
        "- link     :\t  Contains a link to the news.\n",
        "- date\t   :    Contains the date at which the news was published.\n",
        "- short_description:\tContains a brief description of the news."
      ]
    },
    {
      "cell_type": "markdown",
      "metadata": {
        "id": "3xjkpzq0LVrK"
      },
      "source": [
        "<a name = Section41></a>\n",
        "### **4.1 Data Loading**"
      ]
    },
    {
      "cell_type": "code",
      "execution_count": 2,
      "metadata": {
        "colab": {
          "base_uri": "https://localhost:8080/"
        },
        "id": "KyifLnhyDvw1",
        "outputId": "a358d1bb-d508-420f-9727-32b507eef2bc"
      },
      "outputs": [
        {
          "output_type": "stream",
          "name": "stdout",
          "text": [
            "Mounted at /content/drive\n"
          ]
        }
      ],
      "source": [
        "drive.mount('/content/drive')"
      ]
    },
    {
      "cell_type": "markdown",
      "metadata": {
        "id": "hR-9PFGcLybF"
      },
      "source": [
        "<a name = Section42></a>\n",
        "### **4.2 Data Description**"
      ]
    },
    {
      "cell_type": "code",
      "execution_count": 3,
      "metadata": {
        "id": "GUl6UR02mWAp"
      },
      "outputs": [],
      "source": [
        "train=pd.read_csv('/content/drive/MyDrive/NLP/NEWS/Data/Train_data.csv')\n",
        "test=pd.read_csv('/content/drive/MyDrive/NLP/NEWS/Data/Test_data.csv')"
      ]
    },
    {
      "cell_type": "code",
      "execution_count": 4,
      "metadata": {
        "colab": {
          "base_uri": "https://localhost:8080/"
        },
        "id": "YkHRNFeEmYuv",
        "outputId": "78fb01fc-c4de-420a-8229-7af34f33773d"
      },
      "outputs": [
        {
          "output_type": "stream",
          "name": "stdout",
          "text": [
            "<class 'pandas.core.frame.DataFrame'>\n",
            "RangeIndex: 160682 entries, 0 to 160681\n",
            "Data columns (total 7 columns):\n",
            " #   Column             Non-Null Count   Dtype \n",
            "---  ------             --------------   ----- \n",
            " 0   REF_NO             160682 non-null  int64 \n",
            " 1   headline           160676 non-null  object\n",
            " 2   authors            160682 non-null  object\n",
            " 3   link               160682 non-null  object\n",
            " 4   short_description  144885 non-null  object\n",
            " 5   date               160682 non-null  object\n",
            " 6   category           160682 non-null  object\n",
            "dtypes: int64(1), object(6)\n",
            "memory usage: 8.6+ MB\n"
          ]
        }
      ],
      "source": [
        "train.info()"
      ]
    },
    {
      "cell_type": "code",
      "execution_count": 5,
      "metadata": {
        "colab": {
          "base_uri": "https://localhost:8080/",
          "height": 293
        },
        "id": "q1WAFl-Lmg3e",
        "outputId": "e9b7b03e-88f5-4c3f-dec8-e01dd6615c29"
      },
      "outputs": [
        {
          "output_type": "execute_result",
          "data": {
            "text/plain": [
              "   REF_NO                                           headline  \\\n",
              "0  123291                         Putin, Fear and Leadership   \n",
              "1   37541  Barack Obama Failed To Get A New Climate Law, ...   \n",
              "2   84614  Senate GOP Leaders Want To Put Ted Cruz In A T...   \n",
              "3   88293        3 Uncommon Ways to Maintain Your Real Focus   \n",
              "4   32519  Trump Wants To Dismantle The Clean Water Rule....   \n",
              "\n",
              "                                             authors  \\\n",
              "0  James A. Cusumano, Ph.D., ContributorOwner and...   \n",
              "1                                      Kate Sheppard   \n",
              "2                                 Laura Barrón-López   \n",
              "3  Lisa Bennett, ContributorAuthor and Communicat...   \n",
              "4                                Dominique Mosbergen   \n",
              "\n",
              "                                                link  \\\n",
              "0  https://www.huffingtonpost.com/entry/the-simil...   \n",
              "1  https://www.huffingtonpost.com/entry/barack-ob...   \n",
              "2  https://www.huffingtonpost.com/entry/senate-go...   \n",
              "3  https://www.huffingtonpost.com/entry/three-unc...   \n",
              "4  https://www.huffingtonpost.com/entry/clean-wat...   \n",
              "\n",
              "                                   short_description        date  \\\n",
              "0  There are uncomfortable parallels between Hitl...  2014-05-08   \n",
              "1  The fate of climate rules now lies with the Su...  2017-01-11   \n",
              "2  WASHINGTON -- Senate Republican leaders spent ...  2015-07-26   \n",
              "3  As someone who has an insatiable desire to kno...  2015-06-14   \n",
              "4  The drinking water of 117 million people, many...  2017-03-07   \n",
              "\n",
              "         category  \n",
              "0        POLITICS  \n",
              "1        POLITICS  \n",
              "2        POLITICS  \n",
              "3  HEALTHY LIVING  \n",
              "4        POLITICS  "
            ],
            "text/html": [
              "\n",
              "  <div id=\"df-b9df6f0c-3348-4dfd-afcd-2f9169f5542a\" class=\"colab-df-container\">\n",
              "    <div>\n",
              "<style scoped>\n",
              "    .dataframe tbody tr th:only-of-type {\n",
              "        vertical-align: middle;\n",
              "    }\n",
              "\n",
              "    .dataframe tbody tr th {\n",
              "        vertical-align: top;\n",
              "    }\n",
              "\n",
              "    .dataframe thead th {\n",
              "        text-align: right;\n",
              "    }\n",
              "</style>\n",
              "<table border=\"1\" class=\"dataframe\">\n",
              "  <thead>\n",
              "    <tr style=\"text-align: right;\">\n",
              "      <th></th>\n",
              "      <th>REF_NO</th>\n",
              "      <th>headline</th>\n",
              "      <th>authors</th>\n",
              "      <th>link</th>\n",
              "      <th>short_description</th>\n",
              "      <th>date</th>\n",
              "      <th>category</th>\n",
              "    </tr>\n",
              "  </thead>\n",
              "  <tbody>\n",
              "    <tr>\n",
              "      <th>0</th>\n",
              "      <td>123291</td>\n",
              "      <td>Putin, Fear and Leadership</td>\n",
              "      <td>James A. Cusumano, Ph.D., ContributorOwner and...</td>\n",
              "      <td>https://www.huffingtonpost.com/entry/the-simil...</td>\n",
              "      <td>There are uncomfortable parallels between Hitl...</td>\n",
              "      <td>2014-05-08</td>\n",
              "      <td>POLITICS</td>\n",
              "    </tr>\n",
              "    <tr>\n",
              "      <th>1</th>\n",
              "      <td>37541</td>\n",
              "      <td>Barack Obama Failed To Get A New Climate Law, ...</td>\n",
              "      <td>Kate Sheppard</td>\n",
              "      <td>https://www.huffingtonpost.com/entry/barack-ob...</td>\n",
              "      <td>The fate of climate rules now lies with the Su...</td>\n",
              "      <td>2017-01-11</td>\n",
              "      <td>POLITICS</td>\n",
              "    </tr>\n",
              "    <tr>\n",
              "      <th>2</th>\n",
              "      <td>84614</td>\n",
              "      <td>Senate GOP Leaders Want To Put Ted Cruz In A T...</td>\n",
              "      <td>Laura Barrón-López</td>\n",
              "      <td>https://www.huffingtonpost.com/entry/senate-go...</td>\n",
              "      <td>WASHINGTON -- Senate Republican leaders spent ...</td>\n",
              "      <td>2015-07-26</td>\n",
              "      <td>POLITICS</td>\n",
              "    </tr>\n",
              "    <tr>\n",
              "      <th>3</th>\n",
              "      <td>88293</td>\n",
              "      <td>3 Uncommon Ways to Maintain Your Real Focus</td>\n",
              "      <td>Lisa Bennett, ContributorAuthor and Communicat...</td>\n",
              "      <td>https://www.huffingtonpost.com/entry/three-unc...</td>\n",
              "      <td>As someone who has an insatiable desire to kno...</td>\n",
              "      <td>2015-06-14</td>\n",
              "      <td>HEALTHY LIVING</td>\n",
              "    </tr>\n",
              "    <tr>\n",
              "      <th>4</th>\n",
              "      <td>32519</td>\n",
              "      <td>Trump Wants To Dismantle The Clean Water Rule....</td>\n",
              "      <td>Dominique Mosbergen</td>\n",
              "      <td>https://www.huffingtonpost.com/entry/clean-wat...</td>\n",
              "      <td>The drinking water of 117 million people, many...</td>\n",
              "      <td>2017-03-07</td>\n",
              "      <td>POLITICS</td>\n",
              "    </tr>\n",
              "  </tbody>\n",
              "</table>\n",
              "</div>\n",
              "    <div class=\"colab-df-buttons\">\n",
              "\n",
              "  <div class=\"colab-df-container\">\n",
              "    <button class=\"colab-df-convert\" onclick=\"convertToInteractive('df-b9df6f0c-3348-4dfd-afcd-2f9169f5542a')\"\n",
              "            title=\"Convert this dataframe to an interactive table.\"\n",
              "            style=\"display:none;\">\n",
              "\n",
              "  <svg xmlns=\"http://www.w3.org/2000/svg\" height=\"24px\" viewBox=\"0 -960 960 960\">\n",
              "    <path d=\"M120-120v-720h720v720H120Zm60-500h600v-160H180v160Zm220 220h160v-160H400v160Zm0 220h160v-160H400v160ZM180-400h160v-160H180v160Zm440 0h160v-160H620v160ZM180-180h160v-160H180v160Zm440 0h160v-160H620v160Z\"/>\n",
              "  </svg>\n",
              "    </button>\n",
              "\n",
              "  <style>\n",
              "    .colab-df-container {\n",
              "      display:flex;\n",
              "      gap: 12px;\n",
              "    }\n",
              "\n",
              "    .colab-df-convert {\n",
              "      background-color: #E8F0FE;\n",
              "      border: none;\n",
              "      border-radius: 50%;\n",
              "      cursor: pointer;\n",
              "      display: none;\n",
              "      fill: #1967D2;\n",
              "      height: 32px;\n",
              "      padding: 0 0 0 0;\n",
              "      width: 32px;\n",
              "    }\n",
              "\n",
              "    .colab-df-convert:hover {\n",
              "      background-color: #E2EBFA;\n",
              "      box-shadow: 0px 1px 2px rgba(60, 64, 67, 0.3), 0px 1px 3px 1px rgba(60, 64, 67, 0.15);\n",
              "      fill: #174EA6;\n",
              "    }\n",
              "\n",
              "    .colab-df-buttons div {\n",
              "      margin-bottom: 4px;\n",
              "    }\n",
              "\n",
              "    [theme=dark] .colab-df-convert {\n",
              "      background-color: #3B4455;\n",
              "      fill: #D2E3FC;\n",
              "    }\n",
              "\n",
              "    [theme=dark] .colab-df-convert:hover {\n",
              "      background-color: #434B5C;\n",
              "      box-shadow: 0px 1px 3px 1px rgba(0, 0, 0, 0.15);\n",
              "      filter: drop-shadow(0px 1px 2px rgba(0, 0, 0, 0.3));\n",
              "      fill: #FFFFFF;\n",
              "    }\n",
              "  </style>\n",
              "\n",
              "    <script>\n",
              "      const buttonEl =\n",
              "        document.querySelector('#df-b9df6f0c-3348-4dfd-afcd-2f9169f5542a button.colab-df-convert');\n",
              "      buttonEl.style.display =\n",
              "        google.colab.kernel.accessAllowed ? 'block' : 'none';\n",
              "\n",
              "      async function convertToInteractive(key) {\n",
              "        const element = document.querySelector('#df-b9df6f0c-3348-4dfd-afcd-2f9169f5542a');\n",
              "        const dataTable =\n",
              "          await google.colab.kernel.invokeFunction('convertToInteractive',\n",
              "                                                    [key], {});\n",
              "        if (!dataTable) return;\n",
              "\n",
              "        const docLinkHtml = 'Like what you see? Visit the ' +\n",
              "          '<a target=\"_blank\" href=https://colab.research.google.com/notebooks/data_table.ipynb>data table notebook</a>'\n",
              "          + ' to learn more about interactive tables.';\n",
              "        element.innerHTML = '';\n",
              "        dataTable['output_type'] = 'display_data';\n",
              "        await google.colab.output.renderOutput(dataTable, element);\n",
              "        const docLink = document.createElement('div');\n",
              "        docLink.innerHTML = docLinkHtml;\n",
              "        element.appendChild(docLink);\n",
              "      }\n",
              "    </script>\n",
              "  </div>\n",
              "\n",
              "\n",
              "<div id=\"df-2fa27746-c44f-4d2a-8226-fed21f689e4f\">\n",
              "  <button class=\"colab-df-quickchart\" onclick=\"quickchart('df-2fa27746-c44f-4d2a-8226-fed21f689e4f')\"\n",
              "            title=\"Suggest charts\"\n",
              "            style=\"display:none;\">\n",
              "\n",
              "<svg xmlns=\"http://www.w3.org/2000/svg\" height=\"24px\"viewBox=\"0 0 24 24\"\n",
              "     width=\"24px\">\n",
              "    <g>\n",
              "        <path d=\"M19 3H5c-1.1 0-2 .9-2 2v14c0 1.1.9 2 2 2h14c1.1 0 2-.9 2-2V5c0-1.1-.9-2-2-2zM9 17H7v-7h2v7zm4 0h-2V7h2v10zm4 0h-2v-4h2v4z\"/>\n",
              "    </g>\n",
              "</svg>\n",
              "  </button>\n",
              "\n",
              "<style>\n",
              "  .colab-df-quickchart {\n",
              "      --bg-color: #E8F0FE;\n",
              "      --fill-color: #1967D2;\n",
              "      --hover-bg-color: #E2EBFA;\n",
              "      --hover-fill-color: #174EA6;\n",
              "      --disabled-fill-color: #AAA;\n",
              "      --disabled-bg-color: #DDD;\n",
              "  }\n",
              "\n",
              "  [theme=dark] .colab-df-quickchart {\n",
              "      --bg-color: #3B4455;\n",
              "      --fill-color: #D2E3FC;\n",
              "      --hover-bg-color: #434B5C;\n",
              "      --hover-fill-color: #FFFFFF;\n",
              "      --disabled-bg-color: #3B4455;\n",
              "      --disabled-fill-color: #666;\n",
              "  }\n",
              "\n",
              "  .colab-df-quickchart {\n",
              "    background-color: var(--bg-color);\n",
              "    border: none;\n",
              "    border-radius: 50%;\n",
              "    cursor: pointer;\n",
              "    display: none;\n",
              "    fill: var(--fill-color);\n",
              "    height: 32px;\n",
              "    padding: 0;\n",
              "    width: 32px;\n",
              "  }\n",
              "\n",
              "  .colab-df-quickchart:hover {\n",
              "    background-color: var(--hover-bg-color);\n",
              "    box-shadow: 0 1px 2px rgba(60, 64, 67, 0.3), 0 1px 3px 1px rgba(60, 64, 67, 0.15);\n",
              "    fill: var(--button-hover-fill-color);\n",
              "  }\n",
              "\n",
              "  .colab-df-quickchart-complete:disabled,\n",
              "  .colab-df-quickchart-complete:disabled:hover {\n",
              "    background-color: var(--disabled-bg-color);\n",
              "    fill: var(--disabled-fill-color);\n",
              "    box-shadow: none;\n",
              "  }\n",
              "\n",
              "  .colab-df-spinner {\n",
              "    border: 2px solid var(--fill-color);\n",
              "    border-color: transparent;\n",
              "    border-bottom-color: var(--fill-color);\n",
              "    animation:\n",
              "      spin 1s steps(1) infinite;\n",
              "  }\n",
              "\n",
              "  @keyframes spin {\n",
              "    0% {\n",
              "      border-color: transparent;\n",
              "      border-bottom-color: var(--fill-color);\n",
              "      border-left-color: var(--fill-color);\n",
              "    }\n",
              "    20% {\n",
              "      border-color: transparent;\n",
              "      border-left-color: var(--fill-color);\n",
              "      border-top-color: var(--fill-color);\n",
              "    }\n",
              "    30% {\n",
              "      border-color: transparent;\n",
              "      border-left-color: var(--fill-color);\n",
              "      border-top-color: var(--fill-color);\n",
              "      border-right-color: var(--fill-color);\n",
              "    }\n",
              "    40% {\n",
              "      border-color: transparent;\n",
              "      border-right-color: var(--fill-color);\n",
              "      border-top-color: var(--fill-color);\n",
              "    }\n",
              "    60% {\n",
              "      border-color: transparent;\n",
              "      border-right-color: var(--fill-color);\n",
              "    }\n",
              "    80% {\n",
              "      border-color: transparent;\n",
              "      border-right-color: var(--fill-color);\n",
              "      border-bottom-color: var(--fill-color);\n",
              "    }\n",
              "    90% {\n",
              "      border-color: transparent;\n",
              "      border-bottom-color: var(--fill-color);\n",
              "    }\n",
              "  }\n",
              "</style>\n",
              "\n",
              "  <script>\n",
              "    async function quickchart(key) {\n",
              "      const quickchartButtonEl =\n",
              "        document.querySelector('#' + key + ' button');\n",
              "      quickchartButtonEl.disabled = true;  // To prevent multiple clicks.\n",
              "      quickchartButtonEl.classList.add('colab-df-spinner');\n",
              "      try {\n",
              "        const charts = await google.colab.kernel.invokeFunction(\n",
              "            'suggestCharts', [key], {});\n",
              "      } catch (error) {\n",
              "        console.error('Error during call to suggestCharts:', error);\n",
              "      }\n",
              "      quickchartButtonEl.classList.remove('colab-df-spinner');\n",
              "      quickchartButtonEl.classList.add('colab-df-quickchart-complete');\n",
              "    }\n",
              "    (() => {\n",
              "      let quickchartButtonEl =\n",
              "        document.querySelector('#df-2fa27746-c44f-4d2a-8226-fed21f689e4f button');\n",
              "      quickchartButtonEl.style.display =\n",
              "        google.colab.kernel.accessAllowed ? 'block' : 'none';\n",
              "    })();\n",
              "  </script>\n",
              "</div>\n",
              "\n",
              "    </div>\n",
              "  </div>\n"
            ],
            "application/vnd.google.colaboratory.intrinsic+json": {
              "type": "dataframe",
              "variable_name": "train"
            }
          },
          "metadata": {},
          "execution_count": 5
        }
      ],
      "source": [
        "train.head()"
      ]
    },
    {
      "cell_type": "code",
      "execution_count": 6,
      "metadata": {
        "colab": {
          "base_uri": "https://localhost:8080/"
        },
        "id": "_kYeTkIYlS2_",
        "outputId": "81291cdf-51ed-4d09-d971-c0ea0c66aa96"
      },
      "outputs": [
        {
          "output_type": "stream",
          "name": "stdout",
          "text": [
            "<class 'pandas.core.frame.DataFrame'>\n",
            "RangeIndex: 40171 entries, 0 to 40170\n",
            "Data columns (total 6 columns):\n",
            " #   Column             Non-Null Count  Dtype \n",
            "---  ------             --------------  ----- \n",
            " 0   REF_NO             40171 non-null  int64 \n",
            " 1   headline           40171 non-null  object\n",
            " 2   authors            40171 non-null  object\n",
            " 3   link               40171 non-null  object\n",
            " 4   short_description  36256 non-null  object\n",
            " 5   date               40171 non-null  object\n",
            "dtypes: int64(1), object(5)\n",
            "memory usage: 1.8+ MB\n"
          ]
        }
      ],
      "source": [
        "test.info()"
      ]
    },
    {
      "cell_type": "code",
      "execution_count": 7,
      "metadata": {
        "colab": {
          "base_uri": "https://localhost:8080/",
          "height": 1000
        },
        "id": "5ifm1GoGL0Yq",
        "outputId": "6c81a41d-61db-4bfd-962d-38964764cab1"
      },
      "outputs": [
        {
          "output_type": "execute_result",
          "data": {
            "text/plain": [
              "category\n",
              "POLITICS          26173\n",
              "WELLNESS          14279\n",
              "ENTERTAINMENT     12797\n",
              "TRAVEL             7957\n",
              "STYLE & BEAUTY     7698\n",
              "PARENTING          6952\n",
              "HEALTHY LIVING     5351\n",
              "QUEER VOICES       5084\n",
              "FOOD & DRINK       5020\n",
              "BUSINESS           4817\n",
              "COMEDY             4175\n",
              "SPORTS             3889\n",
              "BLACK VOICES       3607\n",
              "HOME & LIVING      3368\n",
              "PARENTS            3183\n",
              "THE WORLDPOST      2907\n",
              "WEDDINGS           2897\n",
              "IMPACT             2808\n",
              "WOMEN              2783\n",
              "CRIME              2728\n",
              "DIVORCE            2712\n",
              "MEDIA              2231\n",
              "WEIRD NEWS         2111\n",
              "GREEN              2092\n",
              "WORLDPOST          2050\n",
              "RELIGION           2012\n",
              "STYLE              1793\n",
              "SCIENCE            1745\n",
              "WORLD NEWS         1742\n",
              "TECH               1661\n",
              "TASTE              1661\n",
              "MONEY              1355\n",
              "ARTS               1226\n",
              "GOOD NEWS          1127\n",
              "FIFTY              1126\n",
              "ENVIRONMENT        1053\n",
              "ARTS & CULTURE     1045\n",
              "LATINO VOICES       931\n",
              "COLLEGE             920\n",
              "CULTURE & ARTS      826\n",
              "EDUCATION           790\n",
              "Name: count, dtype: int64"
            ],
            "text/html": [
              "<div>\n",
              "<style scoped>\n",
              "    .dataframe tbody tr th:only-of-type {\n",
              "        vertical-align: middle;\n",
              "    }\n",
              "\n",
              "    .dataframe tbody tr th {\n",
              "        vertical-align: top;\n",
              "    }\n",
              "\n",
              "    .dataframe thead th {\n",
              "        text-align: right;\n",
              "    }\n",
              "</style>\n",
              "<table border=\"1\" class=\"dataframe\">\n",
              "  <thead>\n",
              "    <tr style=\"text-align: right;\">\n",
              "      <th></th>\n",
              "      <th>count</th>\n",
              "    </tr>\n",
              "    <tr>\n",
              "      <th>category</th>\n",
              "      <th></th>\n",
              "    </tr>\n",
              "  </thead>\n",
              "  <tbody>\n",
              "    <tr>\n",
              "      <th>POLITICS</th>\n",
              "      <td>26173</td>\n",
              "    </tr>\n",
              "    <tr>\n",
              "      <th>WELLNESS</th>\n",
              "      <td>14279</td>\n",
              "    </tr>\n",
              "    <tr>\n",
              "      <th>ENTERTAINMENT</th>\n",
              "      <td>12797</td>\n",
              "    </tr>\n",
              "    <tr>\n",
              "      <th>TRAVEL</th>\n",
              "      <td>7957</td>\n",
              "    </tr>\n",
              "    <tr>\n",
              "      <th>STYLE &amp; BEAUTY</th>\n",
              "      <td>7698</td>\n",
              "    </tr>\n",
              "    <tr>\n",
              "      <th>PARENTING</th>\n",
              "      <td>6952</td>\n",
              "    </tr>\n",
              "    <tr>\n",
              "      <th>HEALTHY LIVING</th>\n",
              "      <td>5351</td>\n",
              "    </tr>\n",
              "    <tr>\n",
              "      <th>QUEER VOICES</th>\n",
              "      <td>5084</td>\n",
              "    </tr>\n",
              "    <tr>\n",
              "      <th>FOOD &amp; DRINK</th>\n",
              "      <td>5020</td>\n",
              "    </tr>\n",
              "    <tr>\n",
              "      <th>BUSINESS</th>\n",
              "      <td>4817</td>\n",
              "    </tr>\n",
              "    <tr>\n",
              "      <th>COMEDY</th>\n",
              "      <td>4175</td>\n",
              "    </tr>\n",
              "    <tr>\n",
              "      <th>SPORTS</th>\n",
              "      <td>3889</td>\n",
              "    </tr>\n",
              "    <tr>\n",
              "      <th>BLACK VOICES</th>\n",
              "      <td>3607</td>\n",
              "    </tr>\n",
              "    <tr>\n",
              "      <th>HOME &amp; LIVING</th>\n",
              "      <td>3368</td>\n",
              "    </tr>\n",
              "    <tr>\n",
              "      <th>PARENTS</th>\n",
              "      <td>3183</td>\n",
              "    </tr>\n",
              "    <tr>\n",
              "      <th>THE WORLDPOST</th>\n",
              "      <td>2907</td>\n",
              "    </tr>\n",
              "    <tr>\n",
              "      <th>WEDDINGS</th>\n",
              "      <td>2897</td>\n",
              "    </tr>\n",
              "    <tr>\n",
              "      <th>IMPACT</th>\n",
              "      <td>2808</td>\n",
              "    </tr>\n",
              "    <tr>\n",
              "      <th>WOMEN</th>\n",
              "      <td>2783</td>\n",
              "    </tr>\n",
              "    <tr>\n",
              "      <th>CRIME</th>\n",
              "      <td>2728</td>\n",
              "    </tr>\n",
              "    <tr>\n",
              "      <th>DIVORCE</th>\n",
              "      <td>2712</td>\n",
              "    </tr>\n",
              "    <tr>\n",
              "      <th>MEDIA</th>\n",
              "      <td>2231</td>\n",
              "    </tr>\n",
              "    <tr>\n",
              "      <th>WEIRD NEWS</th>\n",
              "      <td>2111</td>\n",
              "    </tr>\n",
              "    <tr>\n",
              "      <th>GREEN</th>\n",
              "      <td>2092</td>\n",
              "    </tr>\n",
              "    <tr>\n",
              "      <th>WORLDPOST</th>\n",
              "      <td>2050</td>\n",
              "    </tr>\n",
              "    <tr>\n",
              "      <th>RELIGION</th>\n",
              "      <td>2012</td>\n",
              "    </tr>\n",
              "    <tr>\n",
              "      <th>STYLE</th>\n",
              "      <td>1793</td>\n",
              "    </tr>\n",
              "    <tr>\n",
              "      <th>SCIENCE</th>\n",
              "      <td>1745</td>\n",
              "    </tr>\n",
              "    <tr>\n",
              "      <th>WORLD NEWS</th>\n",
              "      <td>1742</td>\n",
              "    </tr>\n",
              "    <tr>\n",
              "      <th>TECH</th>\n",
              "      <td>1661</td>\n",
              "    </tr>\n",
              "    <tr>\n",
              "      <th>TASTE</th>\n",
              "      <td>1661</td>\n",
              "    </tr>\n",
              "    <tr>\n",
              "      <th>MONEY</th>\n",
              "      <td>1355</td>\n",
              "    </tr>\n",
              "    <tr>\n",
              "      <th>ARTS</th>\n",
              "      <td>1226</td>\n",
              "    </tr>\n",
              "    <tr>\n",
              "      <th>GOOD NEWS</th>\n",
              "      <td>1127</td>\n",
              "    </tr>\n",
              "    <tr>\n",
              "      <th>FIFTY</th>\n",
              "      <td>1126</td>\n",
              "    </tr>\n",
              "    <tr>\n",
              "      <th>ENVIRONMENT</th>\n",
              "      <td>1053</td>\n",
              "    </tr>\n",
              "    <tr>\n",
              "      <th>ARTS &amp; CULTURE</th>\n",
              "      <td>1045</td>\n",
              "    </tr>\n",
              "    <tr>\n",
              "      <th>LATINO VOICES</th>\n",
              "      <td>931</td>\n",
              "    </tr>\n",
              "    <tr>\n",
              "      <th>COLLEGE</th>\n",
              "      <td>920</td>\n",
              "    </tr>\n",
              "    <tr>\n",
              "      <th>CULTURE &amp; ARTS</th>\n",
              "      <td>826</td>\n",
              "    </tr>\n",
              "    <tr>\n",
              "      <th>EDUCATION</th>\n",
              "      <td>790</td>\n",
              "    </tr>\n",
              "  </tbody>\n",
              "</table>\n",
              "</div><br><label><b>dtype:</b> int64</label>"
            ]
          },
          "metadata": {},
          "execution_count": 7
        }
      ],
      "source": [
        "train['category'].value_counts()"
      ]
    },
    {
      "cell_type": "code",
      "execution_count": 8,
      "metadata": {
        "colab": {
          "base_uri": "https://localhost:8080/"
        },
        "id": "nVN51zodqFdF",
        "outputId": "c2c1ceb5-4897-49ae-8474-2bb9bee8f366"
      },
      "outputs": [
        {
          "output_type": "execute_result",
          "data": {
            "text/plain": [
              "0"
            ]
          },
          "metadata": {},
          "execution_count": 8
        }
      ],
      "source": [
        "train.duplicated().sum()"
      ]
    },
    {
      "cell_type": "code",
      "execution_count": 9,
      "metadata": {
        "id": "28869UpxqJkA"
      },
      "outputs": [],
      "source": [
        "train_df=train.dropna(axis=0)"
      ]
    },
    {
      "cell_type": "code",
      "execution_count": 10,
      "metadata": {
        "colab": {
          "base_uri": "https://localhost:8080/"
        },
        "id": "NdXD_R8JqbDK",
        "outputId": "12f815d0-a432-4602-8f3a-c351fbca29d9"
      },
      "outputs": [
        {
          "output_type": "stream",
          "name": "stdout",
          "text": [
            "<class 'pandas.core.frame.DataFrame'>\n",
            "Index: 144884 entries, 0 to 160681\n",
            "Data columns (total 7 columns):\n",
            " #   Column             Non-Null Count   Dtype \n",
            "---  ------             --------------   ----- \n",
            " 0   REF_NO             144884 non-null  int64 \n",
            " 1   headline           144884 non-null  object\n",
            " 2   authors            144884 non-null  object\n",
            " 3   link               144884 non-null  object\n",
            " 4   short_description  144884 non-null  object\n",
            " 5   date               144884 non-null  object\n",
            " 6   category           144884 non-null  object\n",
            "dtypes: int64(1), object(6)\n",
            "memory usage: 8.8+ MB\n"
          ]
        }
      ],
      "source": [
        "train_df.info()"
      ]
    },
    {
      "cell_type": "code",
      "execution_count": 11,
      "metadata": {
        "colab": {
          "base_uri": "https://localhost:8080/"
        },
        "id": "eDx_1d-TiRns",
        "outputId": "1f4ef792-4ea5-4170-d837-b72c7d6b653b"
      },
      "outputs": [
        {
          "output_type": "stream",
          "name": "stdout",
          "text": [
            "<class 'pandas.core.frame.DataFrame'>\n",
            "RangeIndex: 40171 entries, 0 to 40170\n",
            "Data columns (total 6 columns):\n",
            " #   Column             Non-Null Count  Dtype \n",
            "---  ------             --------------  ----- \n",
            " 0   REF_NO             40171 non-null  int64 \n",
            " 1   headline           40171 non-null  object\n",
            " 2   authors            40171 non-null  object\n",
            " 3   link               40171 non-null  object\n",
            " 4   short_description  36256 non-null  object\n",
            " 5   date               40171 non-null  object\n",
            "dtypes: int64(1), object(5)\n",
            "memory usage: 1.8+ MB\n"
          ]
        }
      ],
      "source": [
        "test.info()"
      ]
    },
    {
      "cell_type": "code",
      "execution_count": 12,
      "metadata": {
        "colab": {
          "base_uri": "https://localhost:8080/",
          "height": 293
        },
        "id": "Uyx-S2vyiVV5",
        "outputId": "56bb2fe9-6508-4466-ef1c-eee1547b7f4e"
      },
      "outputs": [
        {
          "output_type": "execute_result",
          "data": {
            "text/plain": [
              "   REF_NO                                           headline  \\\n",
              "0  146508  Lindsay Lohan Clarifies Venice Film Festival A...   \n",
              "1   90083   Marco Rubio and the Challenge to Hillary Clinton   \n",
              "2   57183  Shoutout To Woke Companies: You Could Win $100...   \n",
              "3   11632  'Religious Freedom' Clauses Are Point Of Conte...   \n",
              "4  196326  What It Would Really Be Like to Be Married to ...   \n",
              "\n",
              "                                             authors  \\\n",
              "0                                            Unknown   \n",
              "1  Hoyt Hilsman, ContributorAuthor, journalist an...   \n",
              "2                                Sarah Ruiz-Grossman   \n",
              "3                                     Lydia O'Connor   \n",
              "4  Jenny Isenman, Contributor\\nJenny From the Blo...   \n",
              "\n",
              "                                                link  \\\n",
              "0  https://www.huffingtonpost.com/entry/lindsay-l...   \n",
              "1  https://www.huffingtonpost.com/entry/marco-rub...   \n",
              "2  https://www.huffingtonpost.com/entry/macarthur...   \n",
              "3  https://www.huffingtonpost.com/entry/australia...   \n",
              "4  https://www.huffingtonpost.com/entry/christian...   \n",
              "\n",
              "                                   short_description        date  \n",
              "0  Lohan had already expressed her support for he...  2013-08-31  \n",
              "1  The conventional wisdom among Democrats is tha...  2015-05-25  \n",
              "2  “Solving society’s most pressing problems isn’...  2016-06-02  \n",
              "3  Australians voted in favor of legalizing same-...  2017-11-16  \n",
              "4  Why can't our hubby's be more like Christian G...  2012-03-16  "
            ],
            "text/html": [
              "\n",
              "  <div id=\"df-6a8ebec2-fab0-48ca-9427-a046d35458e0\" class=\"colab-df-container\">\n",
              "    <div>\n",
              "<style scoped>\n",
              "    .dataframe tbody tr th:only-of-type {\n",
              "        vertical-align: middle;\n",
              "    }\n",
              "\n",
              "    .dataframe tbody tr th {\n",
              "        vertical-align: top;\n",
              "    }\n",
              "\n",
              "    .dataframe thead th {\n",
              "        text-align: right;\n",
              "    }\n",
              "</style>\n",
              "<table border=\"1\" class=\"dataframe\">\n",
              "  <thead>\n",
              "    <tr style=\"text-align: right;\">\n",
              "      <th></th>\n",
              "      <th>REF_NO</th>\n",
              "      <th>headline</th>\n",
              "      <th>authors</th>\n",
              "      <th>link</th>\n",
              "      <th>short_description</th>\n",
              "      <th>date</th>\n",
              "    </tr>\n",
              "  </thead>\n",
              "  <tbody>\n",
              "    <tr>\n",
              "      <th>0</th>\n",
              "      <td>146508</td>\n",
              "      <td>Lindsay Lohan Clarifies Venice Film Festival A...</td>\n",
              "      <td>Unknown</td>\n",
              "      <td>https://www.huffingtonpost.com/entry/lindsay-l...</td>\n",
              "      <td>Lohan had already expressed her support for he...</td>\n",
              "      <td>2013-08-31</td>\n",
              "    </tr>\n",
              "    <tr>\n",
              "      <th>1</th>\n",
              "      <td>90083</td>\n",
              "      <td>Marco Rubio and the Challenge to Hillary Clinton</td>\n",
              "      <td>Hoyt Hilsman, ContributorAuthor, journalist an...</td>\n",
              "      <td>https://www.huffingtonpost.com/entry/marco-rub...</td>\n",
              "      <td>The conventional wisdom among Democrats is tha...</td>\n",
              "      <td>2015-05-25</td>\n",
              "    </tr>\n",
              "    <tr>\n",
              "      <th>2</th>\n",
              "      <td>57183</td>\n",
              "      <td>Shoutout To Woke Companies: You Could Win $100...</td>\n",
              "      <td>Sarah Ruiz-Grossman</td>\n",
              "      <td>https://www.huffingtonpost.com/entry/macarthur...</td>\n",
              "      <td>“Solving society’s most pressing problems isn’...</td>\n",
              "      <td>2016-06-02</td>\n",
              "    </tr>\n",
              "    <tr>\n",
              "      <th>3</th>\n",
              "      <td>11632</td>\n",
              "      <td>'Religious Freedom' Clauses Are Point Of Conte...</td>\n",
              "      <td>Lydia O'Connor</td>\n",
              "      <td>https://www.huffingtonpost.com/entry/australia...</td>\n",
              "      <td>Australians voted in favor of legalizing same-...</td>\n",
              "      <td>2017-11-16</td>\n",
              "    </tr>\n",
              "    <tr>\n",
              "      <th>4</th>\n",
              "      <td>196326</td>\n",
              "      <td>What It Would Really Be Like to Be Married to ...</td>\n",
              "      <td>Jenny Isenman, Contributor\\nJenny From the Blo...</td>\n",
              "      <td>https://www.huffingtonpost.com/entry/christian...</td>\n",
              "      <td>Why can't our hubby's be more like Christian G...</td>\n",
              "      <td>2012-03-16</td>\n",
              "    </tr>\n",
              "  </tbody>\n",
              "</table>\n",
              "</div>\n",
              "    <div class=\"colab-df-buttons\">\n",
              "\n",
              "  <div class=\"colab-df-container\">\n",
              "    <button class=\"colab-df-convert\" onclick=\"convertToInteractive('df-6a8ebec2-fab0-48ca-9427-a046d35458e0')\"\n",
              "            title=\"Convert this dataframe to an interactive table.\"\n",
              "            style=\"display:none;\">\n",
              "\n",
              "  <svg xmlns=\"http://www.w3.org/2000/svg\" height=\"24px\" viewBox=\"0 -960 960 960\">\n",
              "    <path d=\"M120-120v-720h720v720H120Zm60-500h600v-160H180v160Zm220 220h160v-160H400v160Zm0 220h160v-160H400v160ZM180-400h160v-160H180v160Zm440 0h160v-160H620v160ZM180-180h160v-160H180v160Zm440 0h160v-160H620v160Z\"/>\n",
              "  </svg>\n",
              "    </button>\n",
              "\n",
              "  <style>\n",
              "    .colab-df-container {\n",
              "      display:flex;\n",
              "      gap: 12px;\n",
              "    }\n",
              "\n",
              "    .colab-df-convert {\n",
              "      background-color: #E8F0FE;\n",
              "      border: none;\n",
              "      border-radius: 50%;\n",
              "      cursor: pointer;\n",
              "      display: none;\n",
              "      fill: #1967D2;\n",
              "      height: 32px;\n",
              "      padding: 0 0 0 0;\n",
              "      width: 32px;\n",
              "    }\n",
              "\n",
              "    .colab-df-convert:hover {\n",
              "      background-color: #E2EBFA;\n",
              "      box-shadow: 0px 1px 2px rgba(60, 64, 67, 0.3), 0px 1px 3px 1px rgba(60, 64, 67, 0.15);\n",
              "      fill: #174EA6;\n",
              "    }\n",
              "\n",
              "    .colab-df-buttons div {\n",
              "      margin-bottom: 4px;\n",
              "    }\n",
              "\n",
              "    [theme=dark] .colab-df-convert {\n",
              "      background-color: #3B4455;\n",
              "      fill: #D2E3FC;\n",
              "    }\n",
              "\n",
              "    [theme=dark] .colab-df-convert:hover {\n",
              "      background-color: #434B5C;\n",
              "      box-shadow: 0px 1px 3px 1px rgba(0, 0, 0, 0.15);\n",
              "      filter: drop-shadow(0px 1px 2px rgba(0, 0, 0, 0.3));\n",
              "      fill: #FFFFFF;\n",
              "    }\n",
              "  </style>\n",
              "\n",
              "    <script>\n",
              "      const buttonEl =\n",
              "        document.querySelector('#df-6a8ebec2-fab0-48ca-9427-a046d35458e0 button.colab-df-convert');\n",
              "      buttonEl.style.display =\n",
              "        google.colab.kernel.accessAllowed ? 'block' : 'none';\n",
              "\n",
              "      async function convertToInteractive(key) {\n",
              "        const element = document.querySelector('#df-6a8ebec2-fab0-48ca-9427-a046d35458e0');\n",
              "        const dataTable =\n",
              "          await google.colab.kernel.invokeFunction('convertToInteractive',\n",
              "                                                    [key], {});\n",
              "        if (!dataTable) return;\n",
              "\n",
              "        const docLinkHtml = 'Like what you see? Visit the ' +\n",
              "          '<a target=\"_blank\" href=https://colab.research.google.com/notebooks/data_table.ipynb>data table notebook</a>'\n",
              "          + ' to learn more about interactive tables.';\n",
              "        element.innerHTML = '';\n",
              "        dataTable['output_type'] = 'display_data';\n",
              "        await google.colab.output.renderOutput(dataTable, element);\n",
              "        const docLink = document.createElement('div');\n",
              "        docLink.innerHTML = docLinkHtml;\n",
              "        element.appendChild(docLink);\n",
              "      }\n",
              "    </script>\n",
              "  </div>\n",
              "\n",
              "\n",
              "<div id=\"df-42410a93-5bfb-4abc-9f48-16e79c039af6\">\n",
              "  <button class=\"colab-df-quickchart\" onclick=\"quickchart('df-42410a93-5bfb-4abc-9f48-16e79c039af6')\"\n",
              "            title=\"Suggest charts\"\n",
              "            style=\"display:none;\">\n",
              "\n",
              "<svg xmlns=\"http://www.w3.org/2000/svg\" height=\"24px\"viewBox=\"0 0 24 24\"\n",
              "     width=\"24px\">\n",
              "    <g>\n",
              "        <path d=\"M19 3H5c-1.1 0-2 .9-2 2v14c0 1.1.9 2 2 2h14c1.1 0 2-.9 2-2V5c0-1.1-.9-2-2-2zM9 17H7v-7h2v7zm4 0h-2V7h2v10zm4 0h-2v-4h2v4z\"/>\n",
              "    </g>\n",
              "</svg>\n",
              "  </button>\n",
              "\n",
              "<style>\n",
              "  .colab-df-quickchart {\n",
              "      --bg-color: #E8F0FE;\n",
              "      --fill-color: #1967D2;\n",
              "      --hover-bg-color: #E2EBFA;\n",
              "      --hover-fill-color: #174EA6;\n",
              "      --disabled-fill-color: #AAA;\n",
              "      --disabled-bg-color: #DDD;\n",
              "  }\n",
              "\n",
              "  [theme=dark] .colab-df-quickchart {\n",
              "      --bg-color: #3B4455;\n",
              "      --fill-color: #D2E3FC;\n",
              "      --hover-bg-color: #434B5C;\n",
              "      --hover-fill-color: #FFFFFF;\n",
              "      --disabled-bg-color: #3B4455;\n",
              "      --disabled-fill-color: #666;\n",
              "  }\n",
              "\n",
              "  .colab-df-quickchart {\n",
              "    background-color: var(--bg-color);\n",
              "    border: none;\n",
              "    border-radius: 50%;\n",
              "    cursor: pointer;\n",
              "    display: none;\n",
              "    fill: var(--fill-color);\n",
              "    height: 32px;\n",
              "    padding: 0;\n",
              "    width: 32px;\n",
              "  }\n",
              "\n",
              "  .colab-df-quickchart:hover {\n",
              "    background-color: var(--hover-bg-color);\n",
              "    box-shadow: 0 1px 2px rgba(60, 64, 67, 0.3), 0 1px 3px 1px rgba(60, 64, 67, 0.15);\n",
              "    fill: var(--button-hover-fill-color);\n",
              "  }\n",
              "\n",
              "  .colab-df-quickchart-complete:disabled,\n",
              "  .colab-df-quickchart-complete:disabled:hover {\n",
              "    background-color: var(--disabled-bg-color);\n",
              "    fill: var(--disabled-fill-color);\n",
              "    box-shadow: none;\n",
              "  }\n",
              "\n",
              "  .colab-df-spinner {\n",
              "    border: 2px solid var(--fill-color);\n",
              "    border-color: transparent;\n",
              "    border-bottom-color: var(--fill-color);\n",
              "    animation:\n",
              "      spin 1s steps(1) infinite;\n",
              "  }\n",
              "\n",
              "  @keyframes spin {\n",
              "    0% {\n",
              "      border-color: transparent;\n",
              "      border-bottom-color: var(--fill-color);\n",
              "      border-left-color: var(--fill-color);\n",
              "    }\n",
              "    20% {\n",
              "      border-color: transparent;\n",
              "      border-left-color: var(--fill-color);\n",
              "      border-top-color: var(--fill-color);\n",
              "    }\n",
              "    30% {\n",
              "      border-color: transparent;\n",
              "      border-left-color: var(--fill-color);\n",
              "      border-top-color: var(--fill-color);\n",
              "      border-right-color: var(--fill-color);\n",
              "    }\n",
              "    40% {\n",
              "      border-color: transparent;\n",
              "      border-right-color: var(--fill-color);\n",
              "      border-top-color: var(--fill-color);\n",
              "    }\n",
              "    60% {\n",
              "      border-color: transparent;\n",
              "      border-right-color: var(--fill-color);\n",
              "    }\n",
              "    80% {\n",
              "      border-color: transparent;\n",
              "      border-right-color: var(--fill-color);\n",
              "      border-bottom-color: var(--fill-color);\n",
              "    }\n",
              "    90% {\n",
              "      border-color: transparent;\n",
              "      border-bottom-color: var(--fill-color);\n",
              "    }\n",
              "  }\n",
              "</style>\n",
              "\n",
              "  <script>\n",
              "    async function quickchart(key) {\n",
              "      const quickchartButtonEl =\n",
              "        document.querySelector('#' + key + ' button');\n",
              "      quickchartButtonEl.disabled = true;  // To prevent multiple clicks.\n",
              "      quickchartButtonEl.classList.add('colab-df-spinner');\n",
              "      try {\n",
              "        const charts = await google.colab.kernel.invokeFunction(\n",
              "            'suggestCharts', [key], {});\n",
              "      } catch (error) {\n",
              "        console.error('Error during call to suggestCharts:', error);\n",
              "      }\n",
              "      quickchartButtonEl.classList.remove('colab-df-spinner');\n",
              "      quickchartButtonEl.classList.add('colab-df-quickchart-complete');\n",
              "    }\n",
              "    (() => {\n",
              "      let quickchartButtonEl =\n",
              "        document.querySelector('#df-42410a93-5bfb-4abc-9f48-16e79c039af6 button');\n",
              "      quickchartButtonEl.style.display =\n",
              "        google.colab.kernel.accessAllowed ? 'block' : 'none';\n",
              "    })();\n",
              "  </script>\n",
              "</div>\n",
              "\n",
              "    </div>\n",
              "  </div>\n"
            ],
            "application/vnd.google.colaboratory.intrinsic+json": {
              "type": "dataframe",
              "variable_name": "test",
              "summary": "{\n  \"name\": \"test\",\n  \"rows\": 40171,\n  \"fields\": [\n    {\n      \"column\": \"REF_NO\",\n      \"properties\": {\n        \"dtype\": \"number\",\n        \"std\": 58140,\n        \"min\": 2,\n        \"max\": 200849,\n        \"num_unique_values\": 40171,\n        \"samples\": [\n          68587,\n          100427,\n          110382\n        ],\n        \"semantic_type\": \"\",\n        \"description\": \"\"\n      }\n    },\n    {\n      \"column\": \"headline\",\n      \"properties\": {\n        \"dtype\": \"string\",\n        \"num_unique_values\": 40009,\n        \"samples\": [\n          \"What Is the Science of Happiness?\",\n          \"Integrative Mental Health and the Healing Power of Connection\",\n          \"U.S-Russian Plan Calls For Syria Ceasefire Starting Saturday\"\n        ],\n        \"semantic_type\": \"\",\n        \"description\": \"\"\n      }\n    },\n    {\n      \"column\": \"authors\",\n      \"properties\": {\n        \"dtype\": \"category\",\n        \"num_unique_values\": 9936,\n        \"samples\": [\n          \"Joel Fuhrman, M.D., Contributor\\n#1 New York Times Bestselling author, family physician special...\",\n          \"Dr. Bruce Weinstein, The Ethics Guy, Contributor\\nCEO, Institute for High-Character Leadership\",\n          \"Kelly Dorfman, Contributor\\nClinical nutritionist, Author\"\n        ],\n        \"semantic_type\": \"\",\n        \"description\": \"\"\n      }\n    },\n    {\n      \"column\": \"link\",\n      \"properties\": {\n        \"dtype\": \"string\",\n        \"num_unique_values\": 40170,\n        \"samples\": [\n          \"https://www.huffingtonpost.com/entry/fattily-ever-after_us_5b9b8dcde4b03a1dcc788f9d\",\n          \"https://www.huffingtonpost.com/entry/how-can-we-help-children_us_5b9d1b5de4b03a1dcc8482e2\",\n          \"https://www.huffingtonpost.com/entry/new-on-netflix-december-2016_us_58333c3ee4b058ce7aac49c7\"\n        ],\n        \"semantic_type\": \"\",\n        \"description\": \"\"\n      }\n    },\n    {\n      \"column\": \"short_description\",\n      \"properties\": {\n        \"dtype\": \"string\",\n        \"num_unique_values\": 35939,\n        \"samples\": [\n          \"The perfect side to bring to your next picnic or barbecue.\",\n          \"I would like that same kind of trust and credibility from our president and his administration and his advisers.  They have every right to take credit for their successes, but they also have every responsibility to accept the blame for their mistakes, misjudgments and failures.\",\n          \"Your actions in this regard demonstrate an utter disregard for the law and the importance of being transparent. I hope you can admit to your error of judgement, supply the entire contents of that email server to an independent third party for analysis, and do your best in the future to recognize the gravity of all of your actions while you are representing we the people.\"\n        ],\n        \"semantic_type\": \"\",\n        \"description\": \"\"\n      }\n    },\n    {\n      \"column\": \"date\",\n      \"properties\": {\n        \"dtype\": \"object\",\n        \"num_unique_values\": 2309,\n        \"samples\": [\n          \"2013-08-10\",\n          \"2016-09-24\",\n          \"2017-08-14\"\n        ],\n        \"semantic_type\": \"\",\n        \"description\": \"\"\n      }\n    }\n  ]\n}"
            }
          },
          "metadata": {},
          "execution_count": 12
        }
      ],
      "source": [
        "test.head()"
      ]
    },
    {
      "cell_type": "code",
      "execution_count": 13,
      "metadata": {
        "id": "5ibEsKXYFmHC"
      },
      "outputs": [],
      "source": [
        "test_df=test.dropna(axis=0)"
      ]
    },
    {
      "cell_type": "code",
      "execution_count": 14,
      "metadata": {
        "colab": {
          "base_uri": "https://localhost:8080/"
        },
        "id": "UoE-gbFsFo4q",
        "outputId": "ebeb3a0e-b1bd-4d7d-9655-621fb896349c"
      },
      "outputs": [
        {
          "output_type": "stream",
          "name": "stdout",
          "text": [
            "<class 'pandas.core.frame.DataFrame'>\n",
            "Index: 36256 entries, 0 to 40170\n",
            "Data columns (total 6 columns):\n",
            " #   Column             Non-Null Count  Dtype \n",
            "---  ------             --------------  ----- \n",
            " 0   REF_NO             36256 non-null  int64 \n",
            " 1   headline           36256 non-null  object\n",
            " 2   authors            36256 non-null  object\n",
            " 3   link               36256 non-null  object\n",
            " 4   short_description  36256 non-null  object\n",
            " 5   date               36256 non-null  object\n",
            "dtypes: int64(1), object(5)\n",
            "memory usage: 1.9+ MB\n"
          ]
        }
      ],
      "source": [
        "test_df.info()"
      ]
    },
    {
      "cell_type": "code",
      "execution_count": 15,
      "metadata": {
        "colab": {
          "base_uri": "https://localhost:8080/"
        },
        "id": "r0v1Pb7AL2YO",
        "outputId": "84b7b732-fddd-4656-abde-c7a7bb4b2226"
      },
      "outputs": [
        {
          "output_type": "stream",
          "name": "stderr",
          "text": [
            "<ipython-input-15-a7fc49a36205>:1: SettingWithCopyWarning: \n",
            "A value is trying to be set on a copy of a slice from a DataFrame.\n",
            "Try using .loc[row_indexer,col_indexer] = value instead\n",
            "\n",
            "See the caveats in the documentation: https://pandas.pydata.org/pandas-docs/stable/user_guide/indexing.html#returning-a-view-versus-a-copy\n",
            "  train_df['content']=train_df['headline']+' '+train_df['short_description']\n"
          ]
        }
      ],
      "source": [
        "train_df['content']=train_df['headline']+' '+train_df['short_description']"
      ]
    },
    {
      "cell_type": "code",
      "execution_count": 16,
      "metadata": {
        "colab": {
          "base_uri": "https://localhost:8080/"
        },
        "id": "7WJds7xCqSNG",
        "outputId": "3827f598-6cd4-43f8-d5bb-1c73f54605f2"
      },
      "outputs": [
        {
          "output_type": "stream",
          "name": "stderr",
          "text": [
            "<ipython-input-16-195d3d2a31b2>:1: SettingWithCopyWarning: \n",
            "A value is trying to be set on a copy of a slice from a DataFrame.\n",
            "Try using .loc[row_indexer,col_indexer] = value instead\n",
            "\n",
            "See the caveats in the documentation: https://pandas.pydata.org/pandas-docs/stable/user_guide/indexing.html#returning-a-view-versus-a-copy\n",
            "  test_df['content']=test_df['headline']+' '+test_df['short_description']\n"
          ]
        }
      ],
      "source": [
        "test_df['content']=test_df['headline']+' '+test_df['short_description']"
      ]
    },
    {
      "cell_type": "code",
      "execution_count": 17,
      "metadata": {
        "colab": {
          "base_uri": "https://localhost:8080/",
          "height": 380
        },
        "id": "Q53aNaanvucX",
        "outputId": "c749453b-4ff2-4a35-a87e-29a27859418b"
      },
      "outputs": [
        {
          "output_type": "execute_result",
          "data": {
            "text/plain": [
              "   REF_NO                                           headline  \\\n",
              "0  123291                         Putin, Fear and Leadership   \n",
              "1   37541  Barack Obama Failed To Get A New Climate Law, ...   \n",
              "2   84614  Senate GOP Leaders Want To Put Ted Cruz In A T...   \n",
              "3   88293        3 Uncommon Ways to Maintain Your Real Focus   \n",
              "4   32519  Trump Wants To Dismantle The Clean Water Rule....   \n",
              "\n",
              "                                             authors  \\\n",
              "0  James A. Cusumano, Ph.D., ContributorOwner and...   \n",
              "1                                      Kate Sheppard   \n",
              "2                                 Laura Barrón-López   \n",
              "3  Lisa Bennett, ContributorAuthor and Communicat...   \n",
              "4                                Dominique Mosbergen   \n",
              "\n",
              "                                                link  \\\n",
              "0  https://www.huffingtonpost.com/entry/the-simil...   \n",
              "1  https://www.huffingtonpost.com/entry/barack-ob...   \n",
              "2  https://www.huffingtonpost.com/entry/senate-go...   \n",
              "3  https://www.huffingtonpost.com/entry/three-unc...   \n",
              "4  https://www.huffingtonpost.com/entry/clean-wat...   \n",
              "\n",
              "                                   short_description        date  \\\n",
              "0  There are uncomfortable parallels between Hitl...  2014-05-08   \n",
              "1  The fate of climate rules now lies with the Su...  2017-01-11   \n",
              "2  WASHINGTON -- Senate Republican leaders spent ...  2015-07-26   \n",
              "3  As someone who has an insatiable desire to kno...  2015-06-14   \n",
              "4  The drinking water of 117 million people, many...  2017-03-07   \n",
              "\n",
              "         category                                            content  \n",
              "0        POLITICS  Putin, Fear and Leadership There are uncomfort...  \n",
              "1        POLITICS  Barack Obama Failed To Get A New Climate Law, ...  \n",
              "2        POLITICS  Senate GOP Leaders Want To Put Ted Cruz In A T...  \n",
              "3  HEALTHY LIVING  3 Uncommon Ways to Maintain Your Real Focus As...  \n",
              "4        POLITICS  Trump Wants To Dismantle The Clean Water Rule....  "
            ],
            "text/html": [
              "\n",
              "  <div id=\"df-02dede0c-494c-479f-a3f5-902433d4e701\" class=\"colab-df-container\">\n",
              "    <div>\n",
              "<style scoped>\n",
              "    .dataframe tbody tr th:only-of-type {\n",
              "        vertical-align: middle;\n",
              "    }\n",
              "\n",
              "    .dataframe tbody tr th {\n",
              "        vertical-align: top;\n",
              "    }\n",
              "\n",
              "    .dataframe thead th {\n",
              "        text-align: right;\n",
              "    }\n",
              "</style>\n",
              "<table border=\"1\" class=\"dataframe\">\n",
              "  <thead>\n",
              "    <tr style=\"text-align: right;\">\n",
              "      <th></th>\n",
              "      <th>REF_NO</th>\n",
              "      <th>headline</th>\n",
              "      <th>authors</th>\n",
              "      <th>link</th>\n",
              "      <th>short_description</th>\n",
              "      <th>date</th>\n",
              "      <th>category</th>\n",
              "      <th>content</th>\n",
              "    </tr>\n",
              "  </thead>\n",
              "  <tbody>\n",
              "    <tr>\n",
              "      <th>0</th>\n",
              "      <td>123291</td>\n",
              "      <td>Putin, Fear and Leadership</td>\n",
              "      <td>James A. Cusumano, Ph.D., ContributorOwner and...</td>\n",
              "      <td>https://www.huffingtonpost.com/entry/the-simil...</td>\n",
              "      <td>There are uncomfortable parallels between Hitl...</td>\n",
              "      <td>2014-05-08</td>\n",
              "      <td>POLITICS</td>\n",
              "      <td>Putin, Fear and Leadership There are uncomfort...</td>\n",
              "    </tr>\n",
              "    <tr>\n",
              "      <th>1</th>\n",
              "      <td>37541</td>\n",
              "      <td>Barack Obama Failed To Get A New Climate Law, ...</td>\n",
              "      <td>Kate Sheppard</td>\n",
              "      <td>https://www.huffingtonpost.com/entry/barack-ob...</td>\n",
              "      <td>The fate of climate rules now lies with the Su...</td>\n",
              "      <td>2017-01-11</td>\n",
              "      <td>POLITICS</td>\n",
              "      <td>Barack Obama Failed To Get A New Climate Law, ...</td>\n",
              "    </tr>\n",
              "    <tr>\n",
              "      <th>2</th>\n",
              "      <td>84614</td>\n",
              "      <td>Senate GOP Leaders Want To Put Ted Cruz In A T...</td>\n",
              "      <td>Laura Barrón-López</td>\n",
              "      <td>https://www.huffingtonpost.com/entry/senate-go...</td>\n",
              "      <td>WASHINGTON -- Senate Republican leaders spent ...</td>\n",
              "      <td>2015-07-26</td>\n",
              "      <td>POLITICS</td>\n",
              "      <td>Senate GOP Leaders Want To Put Ted Cruz In A T...</td>\n",
              "    </tr>\n",
              "    <tr>\n",
              "      <th>3</th>\n",
              "      <td>88293</td>\n",
              "      <td>3 Uncommon Ways to Maintain Your Real Focus</td>\n",
              "      <td>Lisa Bennett, ContributorAuthor and Communicat...</td>\n",
              "      <td>https://www.huffingtonpost.com/entry/three-unc...</td>\n",
              "      <td>As someone who has an insatiable desire to kno...</td>\n",
              "      <td>2015-06-14</td>\n",
              "      <td>HEALTHY LIVING</td>\n",
              "      <td>3 Uncommon Ways to Maintain Your Real Focus As...</td>\n",
              "    </tr>\n",
              "    <tr>\n",
              "      <th>4</th>\n",
              "      <td>32519</td>\n",
              "      <td>Trump Wants To Dismantle The Clean Water Rule....</td>\n",
              "      <td>Dominique Mosbergen</td>\n",
              "      <td>https://www.huffingtonpost.com/entry/clean-wat...</td>\n",
              "      <td>The drinking water of 117 million people, many...</td>\n",
              "      <td>2017-03-07</td>\n",
              "      <td>POLITICS</td>\n",
              "      <td>Trump Wants To Dismantle The Clean Water Rule....</td>\n",
              "    </tr>\n",
              "  </tbody>\n",
              "</table>\n",
              "</div>\n",
              "    <div class=\"colab-df-buttons\">\n",
              "\n",
              "  <div class=\"colab-df-container\">\n",
              "    <button class=\"colab-df-convert\" onclick=\"convertToInteractive('df-02dede0c-494c-479f-a3f5-902433d4e701')\"\n",
              "            title=\"Convert this dataframe to an interactive table.\"\n",
              "            style=\"display:none;\">\n",
              "\n",
              "  <svg xmlns=\"http://www.w3.org/2000/svg\" height=\"24px\" viewBox=\"0 -960 960 960\">\n",
              "    <path d=\"M120-120v-720h720v720H120Zm60-500h600v-160H180v160Zm220 220h160v-160H400v160Zm0 220h160v-160H400v160ZM180-400h160v-160H180v160Zm440 0h160v-160H620v160ZM180-180h160v-160H180v160Zm440 0h160v-160H620v160Z\"/>\n",
              "  </svg>\n",
              "    </button>\n",
              "\n",
              "  <style>\n",
              "    .colab-df-container {\n",
              "      display:flex;\n",
              "      gap: 12px;\n",
              "    }\n",
              "\n",
              "    .colab-df-convert {\n",
              "      background-color: #E8F0FE;\n",
              "      border: none;\n",
              "      border-radius: 50%;\n",
              "      cursor: pointer;\n",
              "      display: none;\n",
              "      fill: #1967D2;\n",
              "      height: 32px;\n",
              "      padding: 0 0 0 0;\n",
              "      width: 32px;\n",
              "    }\n",
              "\n",
              "    .colab-df-convert:hover {\n",
              "      background-color: #E2EBFA;\n",
              "      box-shadow: 0px 1px 2px rgba(60, 64, 67, 0.3), 0px 1px 3px 1px rgba(60, 64, 67, 0.15);\n",
              "      fill: #174EA6;\n",
              "    }\n",
              "\n",
              "    .colab-df-buttons div {\n",
              "      margin-bottom: 4px;\n",
              "    }\n",
              "\n",
              "    [theme=dark] .colab-df-convert {\n",
              "      background-color: #3B4455;\n",
              "      fill: #D2E3FC;\n",
              "    }\n",
              "\n",
              "    [theme=dark] .colab-df-convert:hover {\n",
              "      background-color: #434B5C;\n",
              "      box-shadow: 0px 1px 3px 1px rgba(0, 0, 0, 0.15);\n",
              "      filter: drop-shadow(0px 1px 2px rgba(0, 0, 0, 0.3));\n",
              "      fill: #FFFFFF;\n",
              "    }\n",
              "  </style>\n",
              "\n",
              "    <script>\n",
              "      const buttonEl =\n",
              "        document.querySelector('#df-02dede0c-494c-479f-a3f5-902433d4e701 button.colab-df-convert');\n",
              "      buttonEl.style.display =\n",
              "        google.colab.kernel.accessAllowed ? 'block' : 'none';\n",
              "\n",
              "      async function convertToInteractive(key) {\n",
              "        const element = document.querySelector('#df-02dede0c-494c-479f-a3f5-902433d4e701');\n",
              "        const dataTable =\n",
              "          await google.colab.kernel.invokeFunction('convertToInteractive',\n",
              "                                                    [key], {});\n",
              "        if (!dataTable) return;\n",
              "\n",
              "        const docLinkHtml = 'Like what you see? Visit the ' +\n",
              "          '<a target=\"_blank\" href=https://colab.research.google.com/notebooks/data_table.ipynb>data table notebook</a>'\n",
              "          + ' to learn more about interactive tables.';\n",
              "        element.innerHTML = '';\n",
              "        dataTable['output_type'] = 'display_data';\n",
              "        await google.colab.output.renderOutput(dataTable, element);\n",
              "        const docLink = document.createElement('div');\n",
              "        docLink.innerHTML = docLinkHtml;\n",
              "        element.appendChild(docLink);\n",
              "      }\n",
              "    </script>\n",
              "  </div>\n",
              "\n",
              "\n",
              "<div id=\"df-2a6a23b1-581a-4508-af3d-f3cc052c158a\">\n",
              "  <button class=\"colab-df-quickchart\" onclick=\"quickchart('df-2a6a23b1-581a-4508-af3d-f3cc052c158a')\"\n",
              "            title=\"Suggest charts\"\n",
              "            style=\"display:none;\">\n",
              "\n",
              "<svg xmlns=\"http://www.w3.org/2000/svg\" height=\"24px\"viewBox=\"0 0 24 24\"\n",
              "     width=\"24px\">\n",
              "    <g>\n",
              "        <path d=\"M19 3H5c-1.1 0-2 .9-2 2v14c0 1.1.9 2 2 2h14c1.1 0 2-.9 2-2V5c0-1.1-.9-2-2-2zM9 17H7v-7h2v7zm4 0h-2V7h2v10zm4 0h-2v-4h2v4z\"/>\n",
              "    </g>\n",
              "</svg>\n",
              "  </button>\n",
              "\n",
              "<style>\n",
              "  .colab-df-quickchart {\n",
              "      --bg-color: #E8F0FE;\n",
              "      --fill-color: #1967D2;\n",
              "      --hover-bg-color: #E2EBFA;\n",
              "      --hover-fill-color: #174EA6;\n",
              "      --disabled-fill-color: #AAA;\n",
              "      --disabled-bg-color: #DDD;\n",
              "  }\n",
              "\n",
              "  [theme=dark] .colab-df-quickchart {\n",
              "      --bg-color: #3B4455;\n",
              "      --fill-color: #D2E3FC;\n",
              "      --hover-bg-color: #434B5C;\n",
              "      --hover-fill-color: #FFFFFF;\n",
              "      --disabled-bg-color: #3B4455;\n",
              "      --disabled-fill-color: #666;\n",
              "  }\n",
              "\n",
              "  .colab-df-quickchart {\n",
              "    background-color: var(--bg-color);\n",
              "    border: none;\n",
              "    border-radius: 50%;\n",
              "    cursor: pointer;\n",
              "    display: none;\n",
              "    fill: var(--fill-color);\n",
              "    height: 32px;\n",
              "    padding: 0;\n",
              "    width: 32px;\n",
              "  }\n",
              "\n",
              "  .colab-df-quickchart:hover {\n",
              "    background-color: var(--hover-bg-color);\n",
              "    box-shadow: 0 1px 2px rgba(60, 64, 67, 0.3), 0 1px 3px 1px rgba(60, 64, 67, 0.15);\n",
              "    fill: var(--button-hover-fill-color);\n",
              "  }\n",
              "\n",
              "  .colab-df-quickchart-complete:disabled,\n",
              "  .colab-df-quickchart-complete:disabled:hover {\n",
              "    background-color: var(--disabled-bg-color);\n",
              "    fill: var(--disabled-fill-color);\n",
              "    box-shadow: none;\n",
              "  }\n",
              "\n",
              "  .colab-df-spinner {\n",
              "    border: 2px solid var(--fill-color);\n",
              "    border-color: transparent;\n",
              "    border-bottom-color: var(--fill-color);\n",
              "    animation:\n",
              "      spin 1s steps(1) infinite;\n",
              "  }\n",
              "\n",
              "  @keyframes spin {\n",
              "    0% {\n",
              "      border-color: transparent;\n",
              "      border-bottom-color: var(--fill-color);\n",
              "      border-left-color: var(--fill-color);\n",
              "    }\n",
              "    20% {\n",
              "      border-color: transparent;\n",
              "      border-left-color: var(--fill-color);\n",
              "      border-top-color: var(--fill-color);\n",
              "    }\n",
              "    30% {\n",
              "      border-color: transparent;\n",
              "      border-left-color: var(--fill-color);\n",
              "      border-top-color: var(--fill-color);\n",
              "      border-right-color: var(--fill-color);\n",
              "    }\n",
              "    40% {\n",
              "      border-color: transparent;\n",
              "      border-right-color: var(--fill-color);\n",
              "      border-top-color: var(--fill-color);\n",
              "    }\n",
              "    60% {\n",
              "      border-color: transparent;\n",
              "      border-right-color: var(--fill-color);\n",
              "    }\n",
              "    80% {\n",
              "      border-color: transparent;\n",
              "      border-right-color: var(--fill-color);\n",
              "      border-bottom-color: var(--fill-color);\n",
              "    }\n",
              "    90% {\n",
              "      border-color: transparent;\n",
              "      border-bottom-color: var(--fill-color);\n",
              "    }\n",
              "  }\n",
              "</style>\n",
              "\n",
              "  <script>\n",
              "    async function quickchart(key) {\n",
              "      const quickchartButtonEl =\n",
              "        document.querySelector('#' + key + ' button');\n",
              "      quickchartButtonEl.disabled = true;  // To prevent multiple clicks.\n",
              "      quickchartButtonEl.classList.add('colab-df-spinner');\n",
              "      try {\n",
              "        const charts = await google.colab.kernel.invokeFunction(\n",
              "            'suggestCharts', [key], {});\n",
              "      } catch (error) {\n",
              "        console.error('Error during call to suggestCharts:', error);\n",
              "      }\n",
              "      quickchartButtonEl.classList.remove('colab-df-spinner');\n",
              "      quickchartButtonEl.classList.add('colab-df-quickchart-complete');\n",
              "    }\n",
              "    (() => {\n",
              "      let quickchartButtonEl =\n",
              "        document.querySelector('#df-2a6a23b1-581a-4508-af3d-f3cc052c158a button');\n",
              "      quickchartButtonEl.style.display =\n",
              "        google.colab.kernel.accessAllowed ? 'block' : 'none';\n",
              "    })();\n",
              "  </script>\n",
              "</div>\n",
              "\n",
              "    </div>\n",
              "  </div>\n"
            ],
            "application/vnd.google.colaboratory.intrinsic+json": {
              "type": "dataframe",
              "variable_name": "train_df"
            }
          },
          "metadata": {},
          "execution_count": 17
        }
      ],
      "source": [
        "train_df.head()"
      ]
    },
    {
      "cell_type": "code",
      "execution_count": 18,
      "metadata": {
        "colab": {
          "base_uri": "https://localhost:8080/",
          "height": 362
        },
        "id": "jMRGwzRLr2N7",
        "outputId": "762d28f7-5930-474b-bca0-96d7f930db92"
      },
      "outputs": [
        {
          "output_type": "execute_result",
          "data": {
            "text/plain": [
              "   REF_NO                                           headline  \\\n",
              "0  146508  Lindsay Lohan Clarifies Venice Film Festival A...   \n",
              "1   90083   Marco Rubio and the Challenge to Hillary Clinton   \n",
              "2   57183  Shoutout To Woke Companies: You Could Win $100...   \n",
              "3   11632  'Religious Freedom' Clauses Are Point Of Conte...   \n",
              "4  196326  What It Would Really Be Like to Be Married to ...   \n",
              "\n",
              "                                             authors  \\\n",
              "0                                            Unknown   \n",
              "1  Hoyt Hilsman, ContributorAuthor, journalist an...   \n",
              "2                                Sarah Ruiz-Grossman   \n",
              "3                                     Lydia O'Connor   \n",
              "4  Jenny Isenman, Contributor\\nJenny From the Blo...   \n",
              "\n",
              "                                                link  \\\n",
              "0  https://www.huffingtonpost.com/entry/lindsay-l...   \n",
              "1  https://www.huffingtonpost.com/entry/marco-rub...   \n",
              "2  https://www.huffingtonpost.com/entry/macarthur...   \n",
              "3  https://www.huffingtonpost.com/entry/australia...   \n",
              "4  https://www.huffingtonpost.com/entry/christian...   \n",
              "\n",
              "                                   short_description        date  \\\n",
              "0  Lohan had already expressed her support for he...  2013-08-31   \n",
              "1  The conventional wisdom among Democrats is tha...  2015-05-25   \n",
              "2  “Solving society’s most pressing problems isn’...  2016-06-02   \n",
              "3  Australians voted in favor of legalizing same-...  2017-11-16   \n",
              "4  Why can't our hubby's be more like Christian G...  2012-03-16   \n",
              "\n",
              "                                             content  \n",
              "0  Lindsay Lohan Clarifies Venice Film Festival A...  \n",
              "1  Marco Rubio and the Challenge to Hillary Clint...  \n",
              "2  Shoutout To Woke Companies: You Could Win $100...  \n",
              "3  'Religious Freedom' Clauses Are Point Of Conte...  \n",
              "4  What It Would Really Be Like to Be Married to ...  "
            ],
            "text/html": [
              "\n",
              "  <div id=\"df-20cdb591-7954-4ffa-a808-caa2a9deb6fa\" class=\"colab-df-container\">\n",
              "    <div>\n",
              "<style scoped>\n",
              "    .dataframe tbody tr th:only-of-type {\n",
              "        vertical-align: middle;\n",
              "    }\n",
              "\n",
              "    .dataframe tbody tr th {\n",
              "        vertical-align: top;\n",
              "    }\n",
              "\n",
              "    .dataframe thead th {\n",
              "        text-align: right;\n",
              "    }\n",
              "</style>\n",
              "<table border=\"1\" class=\"dataframe\">\n",
              "  <thead>\n",
              "    <tr style=\"text-align: right;\">\n",
              "      <th></th>\n",
              "      <th>REF_NO</th>\n",
              "      <th>headline</th>\n",
              "      <th>authors</th>\n",
              "      <th>link</th>\n",
              "      <th>short_description</th>\n",
              "      <th>date</th>\n",
              "      <th>content</th>\n",
              "    </tr>\n",
              "  </thead>\n",
              "  <tbody>\n",
              "    <tr>\n",
              "      <th>0</th>\n",
              "      <td>146508</td>\n",
              "      <td>Lindsay Lohan Clarifies Venice Film Festival A...</td>\n",
              "      <td>Unknown</td>\n",
              "      <td>https://www.huffingtonpost.com/entry/lindsay-l...</td>\n",
              "      <td>Lohan had already expressed her support for he...</td>\n",
              "      <td>2013-08-31</td>\n",
              "      <td>Lindsay Lohan Clarifies Venice Film Festival A...</td>\n",
              "    </tr>\n",
              "    <tr>\n",
              "      <th>1</th>\n",
              "      <td>90083</td>\n",
              "      <td>Marco Rubio and the Challenge to Hillary Clinton</td>\n",
              "      <td>Hoyt Hilsman, ContributorAuthor, journalist an...</td>\n",
              "      <td>https://www.huffingtonpost.com/entry/marco-rub...</td>\n",
              "      <td>The conventional wisdom among Democrats is tha...</td>\n",
              "      <td>2015-05-25</td>\n",
              "      <td>Marco Rubio and the Challenge to Hillary Clint...</td>\n",
              "    </tr>\n",
              "    <tr>\n",
              "      <th>2</th>\n",
              "      <td>57183</td>\n",
              "      <td>Shoutout To Woke Companies: You Could Win $100...</td>\n",
              "      <td>Sarah Ruiz-Grossman</td>\n",
              "      <td>https://www.huffingtonpost.com/entry/macarthur...</td>\n",
              "      <td>“Solving society’s most pressing problems isn’...</td>\n",
              "      <td>2016-06-02</td>\n",
              "      <td>Shoutout To Woke Companies: You Could Win $100...</td>\n",
              "    </tr>\n",
              "    <tr>\n",
              "      <th>3</th>\n",
              "      <td>11632</td>\n",
              "      <td>'Religious Freedom' Clauses Are Point Of Conte...</td>\n",
              "      <td>Lydia O'Connor</td>\n",
              "      <td>https://www.huffingtonpost.com/entry/australia...</td>\n",
              "      <td>Australians voted in favor of legalizing same-...</td>\n",
              "      <td>2017-11-16</td>\n",
              "      <td>'Religious Freedom' Clauses Are Point Of Conte...</td>\n",
              "    </tr>\n",
              "    <tr>\n",
              "      <th>4</th>\n",
              "      <td>196326</td>\n",
              "      <td>What It Would Really Be Like to Be Married to ...</td>\n",
              "      <td>Jenny Isenman, Contributor\\nJenny From the Blo...</td>\n",
              "      <td>https://www.huffingtonpost.com/entry/christian...</td>\n",
              "      <td>Why can't our hubby's be more like Christian G...</td>\n",
              "      <td>2012-03-16</td>\n",
              "      <td>What It Would Really Be Like to Be Married to ...</td>\n",
              "    </tr>\n",
              "  </tbody>\n",
              "</table>\n",
              "</div>\n",
              "    <div class=\"colab-df-buttons\">\n",
              "\n",
              "  <div class=\"colab-df-container\">\n",
              "    <button class=\"colab-df-convert\" onclick=\"convertToInteractive('df-20cdb591-7954-4ffa-a808-caa2a9deb6fa')\"\n",
              "            title=\"Convert this dataframe to an interactive table.\"\n",
              "            style=\"display:none;\">\n",
              "\n",
              "  <svg xmlns=\"http://www.w3.org/2000/svg\" height=\"24px\" viewBox=\"0 -960 960 960\">\n",
              "    <path d=\"M120-120v-720h720v720H120Zm60-500h600v-160H180v160Zm220 220h160v-160H400v160Zm0 220h160v-160H400v160ZM180-400h160v-160H180v160Zm440 0h160v-160H620v160ZM180-180h160v-160H180v160Zm440 0h160v-160H620v160Z\"/>\n",
              "  </svg>\n",
              "    </button>\n",
              "\n",
              "  <style>\n",
              "    .colab-df-container {\n",
              "      display:flex;\n",
              "      gap: 12px;\n",
              "    }\n",
              "\n",
              "    .colab-df-convert {\n",
              "      background-color: #E8F0FE;\n",
              "      border: none;\n",
              "      border-radius: 50%;\n",
              "      cursor: pointer;\n",
              "      display: none;\n",
              "      fill: #1967D2;\n",
              "      height: 32px;\n",
              "      padding: 0 0 0 0;\n",
              "      width: 32px;\n",
              "    }\n",
              "\n",
              "    .colab-df-convert:hover {\n",
              "      background-color: #E2EBFA;\n",
              "      box-shadow: 0px 1px 2px rgba(60, 64, 67, 0.3), 0px 1px 3px 1px rgba(60, 64, 67, 0.15);\n",
              "      fill: #174EA6;\n",
              "    }\n",
              "\n",
              "    .colab-df-buttons div {\n",
              "      margin-bottom: 4px;\n",
              "    }\n",
              "\n",
              "    [theme=dark] .colab-df-convert {\n",
              "      background-color: #3B4455;\n",
              "      fill: #D2E3FC;\n",
              "    }\n",
              "\n",
              "    [theme=dark] .colab-df-convert:hover {\n",
              "      background-color: #434B5C;\n",
              "      box-shadow: 0px 1px 3px 1px rgba(0, 0, 0, 0.15);\n",
              "      filter: drop-shadow(0px 1px 2px rgba(0, 0, 0, 0.3));\n",
              "      fill: #FFFFFF;\n",
              "    }\n",
              "  </style>\n",
              "\n",
              "    <script>\n",
              "      const buttonEl =\n",
              "        document.querySelector('#df-20cdb591-7954-4ffa-a808-caa2a9deb6fa button.colab-df-convert');\n",
              "      buttonEl.style.display =\n",
              "        google.colab.kernel.accessAllowed ? 'block' : 'none';\n",
              "\n",
              "      async function convertToInteractive(key) {\n",
              "        const element = document.querySelector('#df-20cdb591-7954-4ffa-a808-caa2a9deb6fa');\n",
              "        const dataTable =\n",
              "          await google.colab.kernel.invokeFunction('convertToInteractive',\n",
              "                                                    [key], {});\n",
              "        if (!dataTable) return;\n",
              "\n",
              "        const docLinkHtml = 'Like what you see? Visit the ' +\n",
              "          '<a target=\"_blank\" href=https://colab.research.google.com/notebooks/data_table.ipynb>data table notebook</a>'\n",
              "          + ' to learn more about interactive tables.';\n",
              "        element.innerHTML = '';\n",
              "        dataTable['output_type'] = 'display_data';\n",
              "        await google.colab.output.renderOutput(dataTable, element);\n",
              "        const docLink = document.createElement('div');\n",
              "        docLink.innerHTML = docLinkHtml;\n",
              "        element.appendChild(docLink);\n",
              "      }\n",
              "    </script>\n",
              "  </div>\n",
              "\n",
              "\n",
              "<div id=\"df-227dd7b3-5f20-4781-8ef2-6c716eb44386\">\n",
              "  <button class=\"colab-df-quickchart\" onclick=\"quickchart('df-227dd7b3-5f20-4781-8ef2-6c716eb44386')\"\n",
              "            title=\"Suggest charts\"\n",
              "            style=\"display:none;\">\n",
              "\n",
              "<svg xmlns=\"http://www.w3.org/2000/svg\" height=\"24px\"viewBox=\"0 0 24 24\"\n",
              "     width=\"24px\">\n",
              "    <g>\n",
              "        <path d=\"M19 3H5c-1.1 0-2 .9-2 2v14c0 1.1.9 2 2 2h14c1.1 0 2-.9 2-2V5c0-1.1-.9-2-2-2zM9 17H7v-7h2v7zm4 0h-2V7h2v10zm4 0h-2v-4h2v4z\"/>\n",
              "    </g>\n",
              "</svg>\n",
              "  </button>\n",
              "\n",
              "<style>\n",
              "  .colab-df-quickchart {\n",
              "      --bg-color: #E8F0FE;\n",
              "      --fill-color: #1967D2;\n",
              "      --hover-bg-color: #E2EBFA;\n",
              "      --hover-fill-color: #174EA6;\n",
              "      --disabled-fill-color: #AAA;\n",
              "      --disabled-bg-color: #DDD;\n",
              "  }\n",
              "\n",
              "  [theme=dark] .colab-df-quickchart {\n",
              "      --bg-color: #3B4455;\n",
              "      --fill-color: #D2E3FC;\n",
              "      --hover-bg-color: #434B5C;\n",
              "      --hover-fill-color: #FFFFFF;\n",
              "      --disabled-bg-color: #3B4455;\n",
              "      --disabled-fill-color: #666;\n",
              "  }\n",
              "\n",
              "  .colab-df-quickchart {\n",
              "    background-color: var(--bg-color);\n",
              "    border: none;\n",
              "    border-radius: 50%;\n",
              "    cursor: pointer;\n",
              "    display: none;\n",
              "    fill: var(--fill-color);\n",
              "    height: 32px;\n",
              "    padding: 0;\n",
              "    width: 32px;\n",
              "  }\n",
              "\n",
              "  .colab-df-quickchart:hover {\n",
              "    background-color: var(--hover-bg-color);\n",
              "    box-shadow: 0 1px 2px rgba(60, 64, 67, 0.3), 0 1px 3px 1px rgba(60, 64, 67, 0.15);\n",
              "    fill: var(--button-hover-fill-color);\n",
              "  }\n",
              "\n",
              "  .colab-df-quickchart-complete:disabled,\n",
              "  .colab-df-quickchart-complete:disabled:hover {\n",
              "    background-color: var(--disabled-bg-color);\n",
              "    fill: var(--disabled-fill-color);\n",
              "    box-shadow: none;\n",
              "  }\n",
              "\n",
              "  .colab-df-spinner {\n",
              "    border: 2px solid var(--fill-color);\n",
              "    border-color: transparent;\n",
              "    border-bottom-color: var(--fill-color);\n",
              "    animation:\n",
              "      spin 1s steps(1) infinite;\n",
              "  }\n",
              "\n",
              "  @keyframes spin {\n",
              "    0% {\n",
              "      border-color: transparent;\n",
              "      border-bottom-color: var(--fill-color);\n",
              "      border-left-color: var(--fill-color);\n",
              "    }\n",
              "    20% {\n",
              "      border-color: transparent;\n",
              "      border-left-color: var(--fill-color);\n",
              "      border-top-color: var(--fill-color);\n",
              "    }\n",
              "    30% {\n",
              "      border-color: transparent;\n",
              "      border-left-color: var(--fill-color);\n",
              "      border-top-color: var(--fill-color);\n",
              "      border-right-color: var(--fill-color);\n",
              "    }\n",
              "    40% {\n",
              "      border-color: transparent;\n",
              "      border-right-color: var(--fill-color);\n",
              "      border-top-color: var(--fill-color);\n",
              "    }\n",
              "    60% {\n",
              "      border-color: transparent;\n",
              "      border-right-color: var(--fill-color);\n",
              "    }\n",
              "    80% {\n",
              "      border-color: transparent;\n",
              "      border-right-color: var(--fill-color);\n",
              "      border-bottom-color: var(--fill-color);\n",
              "    }\n",
              "    90% {\n",
              "      border-color: transparent;\n",
              "      border-bottom-color: var(--fill-color);\n",
              "    }\n",
              "  }\n",
              "</style>\n",
              "\n",
              "  <script>\n",
              "    async function quickchart(key) {\n",
              "      const quickchartButtonEl =\n",
              "        document.querySelector('#' + key + ' button');\n",
              "      quickchartButtonEl.disabled = true;  // To prevent multiple clicks.\n",
              "      quickchartButtonEl.classList.add('colab-df-spinner');\n",
              "      try {\n",
              "        const charts = await google.colab.kernel.invokeFunction(\n",
              "            'suggestCharts', [key], {});\n",
              "      } catch (error) {\n",
              "        console.error('Error during call to suggestCharts:', error);\n",
              "      }\n",
              "      quickchartButtonEl.classList.remove('colab-df-spinner');\n",
              "      quickchartButtonEl.classList.add('colab-df-quickchart-complete');\n",
              "    }\n",
              "    (() => {\n",
              "      let quickchartButtonEl =\n",
              "        document.querySelector('#df-227dd7b3-5f20-4781-8ef2-6c716eb44386 button');\n",
              "      quickchartButtonEl.style.display =\n",
              "        google.colab.kernel.accessAllowed ? 'block' : 'none';\n",
              "    })();\n",
              "  </script>\n",
              "</div>\n",
              "\n",
              "    </div>\n",
              "  </div>\n"
            ],
            "application/vnd.google.colaboratory.intrinsic+json": {
              "type": "dataframe",
              "variable_name": "test_df",
              "summary": "{\n  \"name\": \"test_df\",\n  \"rows\": 36256,\n  \"fields\": [\n    {\n      \"column\": \"REF_NO\",\n      \"properties\": {\n        \"dtype\": \"number\",\n        \"std\": 60893,\n        \"min\": 2,\n        \"max\": 200849,\n        \"num_unique_values\": 36256,\n        \"samples\": [\n          174412,\n          183429,\n          44420\n        ],\n        \"semantic_type\": \"\",\n        \"description\": \"\"\n      }\n    },\n    {\n      \"column\": \"headline\",\n      \"properties\": {\n        \"dtype\": \"string\",\n        \"num_unique_values\": 36106,\n        \"samples\": [\n          \"Say Goodbye to Monday Blues in 5 Steps\",\n          \"Sarah Silverman Breaks Silence On Longtime Friend Louis C.K.\",\n          \"Innovation, Entrepreneurship And Health Care Reform\"\n        ],\n        \"semantic_type\": \"\",\n        \"description\": \"\"\n      }\n    },\n    {\n      \"column\": \"authors\",\n      \"properties\": {\n        \"dtype\": \"category\",\n        \"num_unique_values\": 9533,\n        \"samples\": [\n          \"Kate Bratskeir, Contributor\\nFood and Health Editor, The Huffington Post\",\n          \"Eleanor Goldberg\",\n          \"Shefali Tsabary, Contributor\\nClinical Psychologist & Author, 'The Conscious Parent' and Out...\"\n        ],\n        \"semantic_type\": \"\",\n        \"description\": \"\"\n      }\n    },\n    {\n      \"column\": \"link\",\n      \"properties\": {\n        \"dtype\": \"string\",\n        \"num_unique_values\": 36255,\n        \"samples\": [\n          \"https://www.huffingtonpost.com/entry/gloria-swanson-actress-photo_us_5b9c5a12e4b03a1dcc7dfab6\",\n          \"https://www.huffingtonpost.com/entry/trump-refugee-admissions_us_5a2ecf0fe4b06e3bccf31026\",\n          \"https://www.huffingtonpost.com/entry/kate-middleton-kim-kardashian-clothes_us_5b9c88ade4b03a1dcc7f894d\"\n        ],\n        \"semantic_type\": \"\",\n        \"description\": \"\"\n      }\n    },\n    {\n      \"column\": \"short_description\",\n      \"properties\": {\n        \"dtype\": \"string\",\n        \"num_unique_values\": 35939,\n        \"samples\": [\n          \"The perfect side to bring to your next picnic or barbecue.\",\n          \"I would like that same kind of trust and credibility from our president and his administration and his advisers.  They have every right to take credit for their successes, but they also have every responsibility to accept the blame for their mistakes, misjudgments and failures.\",\n          \"Your actions in this regard demonstrate an utter disregard for the law and the importance of being transparent. I hope you can admit to your error of judgement, supply the entire contents of that email server to an independent third party for analysis, and do your best in the future to recognize the gravity of all of your actions while you are representing we the people.\"\n        ],\n        \"semantic_type\": \"\",\n        \"description\": \"\"\n      }\n    },\n    {\n      \"column\": \"date\",\n      \"properties\": {\n        \"dtype\": \"object\",\n        \"num_unique_values\": 2308,\n        \"samples\": [\n          \"2018-04-11\",\n          \"2017-04-19\",\n          \"2017-08-18\"\n        ],\n        \"semantic_type\": \"\",\n        \"description\": \"\"\n      }\n    },\n    {\n      \"column\": \"content\",\n      \"properties\": {\n        \"dtype\": \"string\",\n        \"num_unique_values\": 36217,\n        \"samples\": [\n          \"7 Ways to Experience the Often-Elusive Joy of Christmas This can lead to a lot of guilt when you don't feel that you're living up to the ideals you have in your head or when you do live up to those standards but feel miserable while doing so and then feel even worse because you're supposed to feel jolly.\",\n          \"Joseph Gordon-Levitt Breaks Up With 'Sandman' Movie Over Creative Differences \\\"I just don't see eye to eye on what makes Sandman special, and what a film adaptation could/should be.\\\"\",\n          \"Carmelo Anthony Calls On Athletes To Put Morals Over Money In Response To Recent Shootings \\\"Take Charge. Take Action.\\\"\"\n        ],\n        \"semantic_type\": \"\",\n        \"description\": \"\"\n      }\n    }\n  ]\n}"
            }
          },
          "metadata": {},
          "execution_count": 18
        }
      ],
      "source": [
        "test_df.head()"
      ]
    },
    {
      "cell_type": "markdown",
      "metadata": {
        "id": "xwtqzsB-L3AA"
      },
      "source": [
        "<a name = Section5></a>\n",
        "## **5. Data Pre-Processing**"
      ]
    },
    {
      "cell_type": "markdown",
      "metadata": {
        "id": "sSLSapzUMEJc"
      },
      "source": [
        "- preprocessing the news data"
      ]
    },
    {
      "cell_type": "code",
      "execution_count": 19,
      "metadata": {
        "id": "TtADnXbLL9UH"
      },
      "outputs": [],
      "source": [
        "def text_preprocess(text):\n",
        "  lemmatizer = WordNetLemmatizer()\n",
        "  filter_Sentence = ''\n",
        "  text=str(text)\n",
        "  sentence = text.lower()\n",
        "  sentence = re.sub(r'[^\\w\\s]',' ',sentence)\n",
        "  sentence = re.sub(r\"\\d\", \" \", sentence)#removing digits\n",
        "  sentence = re.sub(r\"\\s+[a-zA-Z]\\s+\", \" \", sentence)#removing single characters\n",
        "  sentence = re.sub(r\"\\s+\", \" \", sentence, flags=re.I)  # removing extra space\n",
        "  sentence = re.sub(r\"[,@\\'?\\.$%_]\", \"\", sentence, flags=re.I)#removing multiple characters\n",
        "\n",
        "  words = nltk.word_tokenize(sentence)\n",
        "  stop_words = stopwords.words(\"english\")\n",
        "  words = [w for w in words if not w in stop_words]\n",
        "\n",
        "  # words = [w for w in words if not w in stop_words]\n",
        "\n",
        "  for word in words:\n",
        "      #filter_Sentence = filter_Sentence + ' ' + str(word)\n",
        "      filter_Sentence = filter_Sentence + ' ' + str(lemmatizer.lemmatize(word))\n",
        "\n",
        "  return filter_Sentence"
      ]
    },
    {
      "cell_type": "code",
      "execution_count": 20,
      "metadata": {
        "id": "QOkIsQE0-oK2",
        "colab": {
          "base_uri": "https://localhost:8080/"
        },
        "outputId": "c62106d4-fb76-4c17-d3d2-cc0ba1fd34d5"
      },
      "outputs": [
        {
          "output_type": "stream",
          "name": "stderr",
          "text": [
            "<ipython-input-20-251cbf9b7d38>:1: SettingWithCopyWarning: \n",
            "A value is trying to be set on a copy of a slice from a DataFrame.\n",
            "Try using .loc[row_indexer,col_indexer] = value instead\n",
            "\n",
            "See the caveats in the documentation: https://pandas.pydata.org/pandas-docs/stable/user_guide/indexing.html#returning-a-view-versus-a-copy\n",
            "  train_df['content']=train_df['content'].apply(text_preprocess)\n"
          ]
        }
      ],
      "source": [
        "train_df['content']=train_df['content'].apply(text_preprocess)"
      ]
    },
    {
      "cell_type": "code",
      "execution_count": 21,
      "metadata": {
        "id": "2VJKHnxZWK6L"
      },
      "outputs": [],
      "source": [
        "# # mapping\n",
        "def map_category(category):\n",
        "    category_map = {\n",
        "        'POLITICS' : 0,\n",
        "        'WELLNESS' : 1,\n",
        "        'ENTERTAINMENT' : 2,\n",
        "        'TRAVEL' : 3,\n",
        "        'STYLE & BEAUTY' : 4,\n",
        "        'PARENTING' : 5,\n",
        "        'HEALTHY LIVING' : 6,\n",
        "        'QUEER VOICES' : 7,\n",
        "        'FOOD & DRINK' : 8,\n",
        "        'BUSINESS' : 9,\n",
        "        'COMEDY' : 10,\n",
        "        'SPORTS' : 11,\n",
        "        'BLACK VOICES' : 12,\n",
        "        'HOME & LIVING' : 13,\n",
        "        'PARENTS' : 14,\n",
        "        'THE WORLDPOST' : 15,\n",
        "        'WEDDINGS' : 16,\n",
        "        'IMPACT' : 17,\n",
        "        'WOMEN' : 18,\n",
        "        'CRIME' : 19,\n",
        "        'DIVORCE' : 20,\n",
        "        'MEDIA' : 21,\n",
        "        'WEIRD NEWS' : 22,\n",
        "        'GREEN' : 23,\n",
        "        'WORLDPOST' : 24,\n",
        "        'RELIGION' : 25,\n",
        "        'STYLE' : 26,\n",
        "        'SCIENCE' : 27,\n",
        "        'WORLD NEWS' : 28,\n",
        "        'TASTE' : 29,\n",
        "        'TECH' : 30,\n",
        "        'MONEY' : 31,\n",
        "        'ARTS' : 32,\n",
        "        'GOOD NEWS' : 33,\n",
        "        'FIFTY' : 34,\n",
        "        'ENVIRONMENT' : 35,\n",
        "        'ARTS & CULTURE' : 36,\n",
        "        'LATINO VOICES' : 37,\n",
        "        'COLLEGE' : 38,\n",
        "        'CULTURE & ARTS' : 39,\n",
        "      'EDUCATION' : 40,\n",
        "\n",
        "\n",
        "\n",
        "    }\n",
        "    return category_map.get(category, -1)\n"
      ]
    },
    {
      "cell_type": "code",
      "execution_count": 22,
      "metadata": {
        "id": "aolYeH9Jrkqw",
        "colab": {
          "base_uri": "https://localhost:8080/"
        },
        "outputId": "0173d76f-ef71-4581-b785-d1d6be3267fa"
      },
      "outputs": [
        {
          "output_type": "stream",
          "name": "stderr",
          "text": [
            "<ipython-input-22-c63db1b1b957>:1: SettingWithCopyWarning: \n",
            "A value is trying to be set on a copy of a slice from a DataFrame.\n",
            "Try using .loc[row_indexer,col_indexer] = value instead\n",
            "\n",
            "See the caveats in the documentation: https://pandas.pydata.org/pandas-docs/stable/user_guide/indexing.html#returning-a-view-versus-a-copy\n",
            "  train_df['category'] = train_df['category'].apply(map_category)\n"
          ]
        }
      ],
      "source": [
        "train_df['category'] = train_df['category'].apply(map_category)"
      ]
    },
    {
      "cell_type": "code",
      "execution_count": 23,
      "metadata": {
        "id": "UK6HLplqbI07"
      },
      "outputs": [],
      "source": [
        "#removing the useless column\n",
        "train_df=train_df.drop(['REF_NO','headline','authors','link','date','short_description'],axis=1)"
      ]
    },
    {
      "cell_type": "code",
      "execution_count": 24,
      "metadata": {
        "id": "MA7Vmh5WyZLJ",
        "colab": {
          "base_uri": "https://localhost:8080/",
          "height": 206
        },
        "outputId": "fec0fbe0-4b41-4ac1-ce25-4a3747982738"
      },
      "outputs": [
        {
          "output_type": "execute_result",
          "data": {
            "text/plain": [
              "   category                                            content\n",
              "0         0   putin fear leadership uncomfortable parallel ...\n",
              "1         0   barack obama failed get new climate law legac...\n",
              "2         0   senate gop leader want put ted cruz time wash...\n",
              "3         6   uncommon way maintain real focus someone insa...\n",
              "4         0   trump want dismantle clean water rule stake d..."
            ],
            "text/html": [
              "\n",
              "  <div id=\"df-69f0a388-0bb5-4423-ae18-ec4ffb7e391a\" class=\"colab-df-container\">\n",
              "    <div>\n",
              "<style scoped>\n",
              "    .dataframe tbody tr th:only-of-type {\n",
              "        vertical-align: middle;\n",
              "    }\n",
              "\n",
              "    .dataframe tbody tr th {\n",
              "        vertical-align: top;\n",
              "    }\n",
              "\n",
              "    .dataframe thead th {\n",
              "        text-align: right;\n",
              "    }\n",
              "</style>\n",
              "<table border=\"1\" class=\"dataframe\">\n",
              "  <thead>\n",
              "    <tr style=\"text-align: right;\">\n",
              "      <th></th>\n",
              "      <th>category</th>\n",
              "      <th>content</th>\n",
              "    </tr>\n",
              "  </thead>\n",
              "  <tbody>\n",
              "    <tr>\n",
              "      <th>0</th>\n",
              "      <td>0</td>\n",
              "      <td>putin fear leadership uncomfortable parallel ...</td>\n",
              "    </tr>\n",
              "    <tr>\n",
              "      <th>1</th>\n",
              "      <td>0</td>\n",
              "      <td>barack obama failed get new climate law legac...</td>\n",
              "    </tr>\n",
              "    <tr>\n",
              "      <th>2</th>\n",
              "      <td>0</td>\n",
              "      <td>senate gop leader want put ted cruz time wash...</td>\n",
              "    </tr>\n",
              "    <tr>\n",
              "      <th>3</th>\n",
              "      <td>6</td>\n",
              "      <td>uncommon way maintain real focus someone insa...</td>\n",
              "    </tr>\n",
              "    <tr>\n",
              "      <th>4</th>\n",
              "      <td>0</td>\n",
              "      <td>trump want dismantle clean water rule stake d...</td>\n",
              "    </tr>\n",
              "  </tbody>\n",
              "</table>\n",
              "</div>\n",
              "    <div class=\"colab-df-buttons\">\n",
              "\n",
              "  <div class=\"colab-df-container\">\n",
              "    <button class=\"colab-df-convert\" onclick=\"convertToInteractive('df-69f0a388-0bb5-4423-ae18-ec4ffb7e391a')\"\n",
              "            title=\"Convert this dataframe to an interactive table.\"\n",
              "            style=\"display:none;\">\n",
              "\n",
              "  <svg xmlns=\"http://www.w3.org/2000/svg\" height=\"24px\" viewBox=\"0 -960 960 960\">\n",
              "    <path d=\"M120-120v-720h720v720H120Zm60-500h600v-160H180v160Zm220 220h160v-160H400v160Zm0 220h160v-160H400v160ZM180-400h160v-160H180v160Zm440 0h160v-160H620v160ZM180-180h160v-160H180v160Zm440 0h160v-160H620v160Z\"/>\n",
              "  </svg>\n",
              "    </button>\n",
              "\n",
              "  <style>\n",
              "    .colab-df-container {\n",
              "      display:flex;\n",
              "      gap: 12px;\n",
              "    }\n",
              "\n",
              "    .colab-df-convert {\n",
              "      background-color: #E8F0FE;\n",
              "      border: none;\n",
              "      border-radius: 50%;\n",
              "      cursor: pointer;\n",
              "      display: none;\n",
              "      fill: #1967D2;\n",
              "      height: 32px;\n",
              "      padding: 0 0 0 0;\n",
              "      width: 32px;\n",
              "    }\n",
              "\n",
              "    .colab-df-convert:hover {\n",
              "      background-color: #E2EBFA;\n",
              "      box-shadow: 0px 1px 2px rgba(60, 64, 67, 0.3), 0px 1px 3px 1px rgba(60, 64, 67, 0.15);\n",
              "      fill: #174EA6;\n",
              "    }\n",
              "\n",
              "    .colab-df-buttons div {\n",
              "      margin-bottom: 4px;\n",
              "    }\n",
              "\n",
              "    [theme=dark] .colab-df-convert {\n",
              "      background-color: #3B4455;\n",
              "      fill: #D2E3FC;\n",
              "    }\n",
              "\n",
              "    [theme=dark] .colab-df-convert:hover {\n",
              "      background-color: #434B5C;\n",
              "      box-shadow: 0px 1px 3px 1px rgba(0, 0, 0, 0.15);\n",
              "      filter: drop-shadow(0px 1px 2px rgba(0, 0, 0, 0.3));\n",
              "      fill: #FFFFFF;\n",
              "    }\n",
              "  </style>\n",
              "\n",
              "    <script>\n",
              "      const buttonEl =\n",
              "        document.querySelector('#df-69f0a388-0bb5-4423-ae18-ec4ffb7e391a button.colab-df-convert');\n",
              "      buttonEl.style.display =\n",
              "        google.colab.kernel.accessAllowed ? 'block' : 'none';\n",
              "\n",
              "      async function convertToInteractive(key) {\n",
              "        const element = document.querySelector('#df-69f0a388-0bb5-4423-ae18-ec4ffb7e391a');\n",
              "        const dataTable =\n",
              "          await google.colab.kernel.invokeFunction('convertToInteractive',\n",
              "                                                    [key], {});\n",
              "        if (!dataTable) return;\n",
              "\n",
              "        const docLinkHtml = 'Like what you see? Visit the ' +\n",
              "          '<a target=\"_blank\" href=https://colab.research.google.com/notebooks/data_table.ipynb>data table notebook</a>'\n",
              "          + ' to learn more about interactive tables.';\n",
              "        element.innerHTML = '';\n",
              "        dataTable['output_type'] = 'display_data';\n",
              "        await google.colab.output.renderOutput(dataTable, element);\n",
              "        const docLink = document.createElement('div');\n",
              "        docLink.innerHTML = docLinkHtml;\n",
              "        element.appendChild(docLink);\n",
              "      }\n",
              "    </script>\n",
              "  </div>\n",
              "\n",
              "\n",
              "<div id=\"df-dc2c4f25-ac48-4ec3-aa11-508928469bda\">\n",
              "  <button class=\"colab-df-quickchart\" onclick=\"quickchart('df-dc2c4f25-ac48-4ec3-aa11-508928469bda')\"\n",
              "            title=\"Suggest charts\"\n",
              "            style=\"display:none;\">\n",
              "\n",
              "<svg xmlns=\"http://www.w3.org/2000/svg\" height=\"24px\"viewBox=\"0 0 24 24\"\n",
              "     width=\"24px\">\n",
              "    <g>\n",
              "        <path d=\"M19 3H5c-1.1 0-2 .9-2 2v14c0 1.1.9 2 2 2h14c1.1 0 2-.9 2-2V5c0-1.1-.9-2-2-2zM9 17H7v-7h2v7zm4 0h-2V7h2v10zm4 0h-2v-4h2v4z\"/>\n",
              "    </g>\n",
              "</svg>\n",
              "  </button>\n",
              "\n",
              "<style>\n",
              "  .colab-df-quickchart {\n",
              "      --bg-color: #E8F0FE;\n",
              "      --fill-color: #1967D2;\n",
              "      --hover-bg-color: #E2EBFA;\n",
              "      --hover-fill-color: #174EA6;\n",
              "      --disabled-fill-color: #AAA;\n",
              "      --disabled-bg-color: #DDD;\n",
              "  }\n",
              "\n",
              "  [theme=dark] .colab-df-quickchart {\n",
              "      --bg-color: #3B4455;\n",
              "      --fill-color: #D2E3FC;\n",
              "      --hover-bg-color: #434B5C;\n",
              "      --hover-fill-color: #FFFFFF;\n",
              "      --disabled-bg-color: #3B4455;\n",
              "      --disabled-fill-color: #666;\n",
              "  }\n",
              "\n",
              "  .colab-df-quickchart {\n",
              "    background-color: var(--bg-color);\n",
              "    border: none;\n",
              "    border-radius: 50%;\n",
              "    cursor: pointer;\n",
              "    display: none;\n",
              "    fill: var(--fill-color);\n",
              "    height: 32px;\n",
              "    padding: 0;\n",
              "    width: 32px;\n",
              "  }\n",
              "\n",
              "  .colab-df-quickchart:hover {\n",
              "    background-color: var(--hover-bg-color);\n",
              "    box-shadow: 0 1px 2px rgba(60, 64, 67, 0.3), 0 1px 3px 1px rgba(60, 64, 67, 0.15);\n",
              "    fill: var(--button-hover-fill-color);\n",
              "  }\n",
              "\n",
              "  .colab-df-quickchart-complete:disabled,\n",
              "  .colab-df-quickchart-complete:disabled:hover {\n",
              "    background-color: var(--disabled-bg-color);\n",
              "    fill: var(--disabled-fill-color);\n",
              "    box-shadow: none;\n",
              "  }\n",
              "\n",
              "  .colab-df-spinner {\n",
              "    border: 2px solid var(--fill-color);\n",
              "    border-color: transparent;\n",
              "    border-bottom-color: var(--fill-color);\n",
              "    animation:\n",
              "      spin 1s steps(1) infinite;\n",
              "  }\n",
              "\n",
              "  @keyframes spin {\n",
              "    0% {\n",
              "      border-color: transparent;\n",
              "      border-bottom-color: var(--fill-color);\n",
              "      border-left-color: var(--fill-color);\n",
              "    }\n",
              "    20% {\n",
              "      border-color: transparent;\n",
              "      border-left-color: var(--fill-color);\n",
              "      border-top-color: var(--fill-color);\n",
              "    }\n",
              "    30% {\n",
              "      border-color: transparent;\n",
              "      border-left-color: var(--fill-color);\n",
              "      border-top-color: var(--fill-color);\n",
              "      border-right-color: var(--fill-color);\n",
              "    }\n",
              "    40% {\n",
              "      border-color: transparent;\n",
              "      border-right-color: var(--fill-color);\n",
              "      border-top-color: var(--fill-color);\n",
              "    }\n",
              "    60% {\n",
              "      border-color: transparent;\n",
              "      border-right-color: var(--fill-color);\n",
              "    }\n",
              "    80% {\n",
              "      border-color: transparent;\n",
              "      border-right-color: var(--fill-color);\n",
              "      border-bottom-color: var(--fill-color);\n",
              "    }\n",
              "    90% {\n",
              "      border-color: transparent;\n",
              "      border-bottom-color: var(--fill-color);\n",
              "    }\n",
              "  }\n",
              "</style>\n",
              "\n",
              "  <script>\n",
              "    async function quickchart(key) {\n",
              "      const quickchartButtonEl =\n",
              "        document.querySelector('#' + key + ' button');\n",
              "      quickchartButtonEl.disabled = true;  // To prevent multiple clicks.\n",
              "      quickchartButtonEl.classList.add('colab-df-spinner');\n",
              "      try {\n",
              "        const charts = await google.colab.kernel.invokeFunction(\n",
              "            'suggestCharts', [key], {});\n",
              "      } catch (error) {\n",
              "        console.error('Error during call to suggestCharts:', error);\n",
              "      }\n",
              "      quickchartButtonEl.classList.remove('colab-df-spinner');\n",
              "      quickchartButtonEl.classList.add('colab-df-quickchart-complete');\n",
              "    }\n",
              "    (() => {\n",
              "      let quickchartButtonEl =\n",
              "        document.querySelector('#df-dc2c4f25-ac48-4ec3-aa11-508928469bda button');\n",
              "      quickchartButtonEl.style.display =\n",
              "        google.colab.kernel.accessAllowed ? 'block' : 'none';\n",
              "    })();\n",
              "  </script>\n",
              "</div>\n",
              "\n",
              "    </div>\n",
              "  </div>\n"
            ],
            "application/vnd.google.colaboratory.intrinsic+json": {
              "type": "dataframe",
              "variable_name": "train_df"
            }
          },
          "metadata": {},
          "execution_count": 24
        }
      ],
      "source": [
        "train_df.head()"
      ]
    },
    {
      "cell_type": "code",
      "execution_count": 25,
      "metadata": {
        "id": "uhik9LWCskGn",
        "colab": {
          "base_uri": "https://localhost:8080/"
        },
        "outputId": "fef019a4-3432-4fdd-ecc5-6089040a4bdb"
      },
      "outputs": [
        {
          "output_type": "stream",
          "name": "stdout",
          "text": [
            "<class 'pandas.core.frame.DataFrame'>\n",
            "Index: 144884 entries, 0 to 160681\n",
            "Data columns (total 2 columns):\n",
            " #   Column    Non-Null Count   Dtype \n",
            "---  ------    --------------   ----- \n",
            " 0   category  144884 non-null  int64 \n",
            " 1   content   144884 non-null  object\n",
            "dtypes: int64(1), object(1)\n",
            "memory usage: 3.3+ MB\n"
          ]
        }
      ],
      "source": [
        "train_df.info()"
      ]
    },
    {
      "cell_type": "code",
      "execution_count": 26,
      "metadata": {
        "id": "2Ox7z1O8__oq",
        "colab": {
          "base_uri": "https://localhost:8080/",
          "height": 53
        },
        "outputId": "c7e4ca48-a72c-433a-b39a-b56fdcb47d0d"
      },
      "outputs": [
        {
          "output_type": "execute_result",
          "data": {
            "text/plain": [
              "' uncommon way maintain real focus someone insatiable desire know everything also come find three insight particularly helpful rather concrete action serve mindset perspective take available u stay centered truly matter u individual'"
            ],
            "application/vnd.google.colaboratory.intrinsic+json": {
              "type": "string"
            }
          },
          "metadata": {},
          "execution_count": 26
        }
      ],
      "source": [
        "train_df['content'][3]"
      ]
    },
    {
      "cell_type": "markdown",
      "metadata": {
        "id": "dK38IM2hbW1O"
      },
      "source": [
        "<a name = Section5></a>\n",
        "## **6. Model Development and Evaluation**"
      ]
    },
    {
      "cell_type": "code",
      "execution_count": 27,
      "metadata": {
        "id": "TcYITtE1bXQI"
      },
      "outputs": [],
      "source": [
        "X = train_df['content']\n",
        "y = train_df['category']"
      ]
    },
    {
      "cell_type": "code",
      "execution_count": 28,
      "metadata": {
        "id": "Sy7ywsH5lUjx",
        "colab": {
          "base_uri": "https://localhost:8080/"
        },
        "outputId": "eebe6f52-ae62-4a1f-dca7-d59cc95728c8"
      },
      "outputs": [
        {
          "output_type": "stream",
          "name": "stdout",
          "text": [
            "X.shape (144884,)\n",
            "y.shape (144884,)\n"
          ]
        }
      ],
      "source": [
        "print('X.shape', X.shape)\n",
        "print('y.shape', y.shape)"
      ]
    },
    {
      "cell_type": "code",
      "execution_count": 29,
      "metadata": {
        "id": "ugmatW1nlIIV"
      },
      "outputs": [],
      "source": [
        "maxlen = max(len(x.split()) for x in X.values)"
      ]
    },
    {
      "cell_type": "code",
      "execution_count": 30,
      "metadata": {
        "id": "Cp7KHlHslh2S",
        "colab": {
          "base_uri": "https://localhost:8080/"
        },
        "outputId": "168bdff7-46ee-4dde-9dc5-15ec6ce1b696"
      },
      "outputs": [
        {
          "output_type": "execute_result",
          "data": {
            "text/plain": [
              "139"
            ]
          },
          "metadata": {},
          "execution_count": 30
        }
      ],
      "source": [
        "maxlen"
      ]
    },
    {
      "cell_type": "markdown",
      "metadata": {
        "id": "7XlGZrTXbXhr"
      },
      "source": [
        "#train and test split"
      ]
    },
    {
      "cell_type": "code",
      "execution_count": 31,
      "metadata": {
        "id": "0wEeWRpVbX0G"
      },
      "outputs": [],
      "source": [
        "from sklearn.model_selection import train_test_split\n",
        "# X_train , X_test , Y_train , Y_test  = train_test_split(X, y, test_size = 0.2 , stratify = Y , random_state = 42)"
      ]
    },
    {
      "cell_type": "code",
      "execution_count": 32,
      "metadata": {
        "id": "nqzdCX2QtSG3",
        "colab": {
          "base_uri": "https://localhost:8080/"
        },
        "outputId": "52b166d9-053a-4fef-abb9-569bd60c29b6"
      },
      "outputs": [
        {
          "output_type": "stream",
          "name": "stdout",
          "text": [
            "Number of sentences for training: 115907 \n",
            "\n",
            "Number of labels for training: 115907\n",
            "\n",
            "Number of sentences for validation: 28977 \n",
            "\n",
            "Number of labels for validation: 28977\n"
          ]
        }
      ],
      "source": [
        "train_sentences, val_sentences, train_labels, val_labels = train_test_split(X, y, test_size = 0.2 , stratify = y , random_state = 42)\n",
        "\n",
        "print(f\"Number of sentences for training: {len(train_sentences)} \\n\")\n",
        "print(f\"Number of labels for training: {len(train_labels)}\\n\")\n",
        "print(f\"Number of sentences for validation: {len(val_sentences)} \\n\")\n",
        "print(f\"Number of labels for validation: {len(val_labels)}\")"
      ]
    },
    {
      "cell_type": "markdown",
      "metadata": {
        "id": "QI_cCoqrs6BP"
      },
      "source": [
        "#Setting hyperparamters"
      ]
    },
    {
      "cell_type": "code",
      "execution_count": 33,
      "metadata": {
        "id": "EP-ycisfxR5o"
      },
      "outputs": [],
      "source": [
        "# the maximum number of words to keep, based on word frequency\n",
        "NUM_WORDS = 1000\n",
        "\n",
        "# dimension of the dense embedding that will be used in the embedding layer of the model\n",
        "EMBEDDING_DIM = 64\n",
        "\n",
        "# maximum length of all sequences\n",
        "MAXLEN = max(len(x.split()) for x in X.values)\n",
        "\n",
        "# padding strategy\n",
        "PADDING = 'post'\n",
        "\n",
        "# token to replace out-of-vocabulary words during text_to_sequence() calls\n",
        "OOV_TOKEN = \"\"\n",
        "\n",
        "# set LSTM dimensions\n",
        "lstm1_dim = 16\n",
        "lstm2_dim = 32"
      ]
    },
    {
      "cell_type": "code",
      "execution_count": 34,
      "metadata": {
        "id": "V11V9hLYvwju"
      },
      "outputs": [],
      "source": [
        "def fit_tokenizer(train_sentences, num_words, oov_token):\n",
        "    # instantiate the Tokenizer class\n",
        "    tokenizer = Tokenizer(num_words=num_words, oov_token=oov_token)\n",
        "\n",
        "    # fit the tokenizer to the training sentences\n",
        "    tokenizer.fit_on_texts(train_sentences)\n",
        "\n",
        "    return tokenizer"
      ]
    },
    {
      "cell_type": "code",
      "execution_count": 35,
      "metadata": {
        "id": "eOrJPaNGvwnL",
        "colab": {
          "base_uri": "https://localhost:8080/"
        },
        "outputId": "230a5cb8-3ec4-4bb8-83b5-7b14cd413806"
      },
      "outputs": [
        {
          "output_type": "stream",
          "name": "stdout",
          "text": [
            "Number of words in the vocabulary: 61968\n",
            "\n"
          ]
        }
      ],
      "source": [
        "\n",
        "# fit the Tokenizer\n",
        "tokenizer = fit_tokenizer(train_sentences, NUM_WORDS, OOV_TOKEN)\n",
        "\n",
        "# get word_index\n",
        "word_index = tokenizer.word_index\n",
        "\n",
        "print(f\"Number of words in the vocabulary: {len(word_index)}\\n\")"
      ]
    },
    {
      "cell_type": "code",
      "execution_count": 36,
      "metadata": {
        "id": "W_dYvFd3vwqY"
      },
      "outputs": [],
      "source": [
        "def seq_and_pad(sentences, tokenizer, padding, maxlen):\n",
        "    # convert training sentences to sequences\n",
        "    sequences = tokenizer.texts_to_sequences(sentences)\n",
        "\n",
        "    # pad the sequences using the correct padding and maxlen\n",
        "    padded_sequences = pad_sequences(sequences,\n",
        "                                     maxlen=maxlen,\n",
        "                                     padding=padding,\n",
        "                                     truncating='post')\n",
        "\n",
        "    return padded_sequences"
      ]
    },
    {
      "cell_type": "code",
      "execution_count": 37,
      "metadata": {
        "id": "cov4PIk8vwuF",
        "colab": {
          "base_uri": "https://localhost:8080/"
        },
        "outputId": "b22fe58b-5ab8-4d61-9abe-f3b63a28ef60"
      },
      "outputs": [
        {
          "output_type": "stream",
          "name": "stdout",
          "text": [
            "Shape of padded training sequences: (115907, 139)\n",
            "\n",
            "Shape of padded validation sequences: (28977, 139)\n"
          ]
        }
      ],
      "source": [
        "train_padded_seq = seq_and_pad(train_sentences, tokenizer, PADDING, MAXLEN)\n",
        "val_padded_seq = seq_and_pad(val_sentences, tokenizer, PADDING, MAXLEN)\n",
        "\n",
        "print(f\"Shape of padded training sequences: {train_padded_seq.shape}\\n\")\n",
        "print(f\"Shape of padded validation sequences: {val_padded_seq.shape}\")"
      ]
    },
    {
      "cell_type": "code",
      "execution_count": 54,
      "metadata": {
        "id": "gh1Vakexvw0T",
        "colab": {
          "base_uri": "https://localhost:8080/"
        },
        "outputId": "4d2ff8ab-7814-4a21-953e-270f8d1ed6e6"
      },
      "outputs": [
        {
          "output_type": "stream",
          "name": "stdout",
          "text": [
            "Shape of tokenized labels of the training set: (115907,)\n",
            "\n",
            "Shape of tokenized labels of the validation set: (28977,)\n",
            "\n",
            "First 5 labels of the training set:\n",
            "68470     20\n",
            "154294     5\n",
            "74207      0\n",
            "33003     11\n",
            "12897      3\n",
            "Name: category, dtype: int64\n",
            "\n",
            "First 5 labels of the validation set:\n",
            "42778     29\n",
            "103058    25\n",
            "146183     2\n",
            "139742     0\n",
            "73221      2\n",
            "Name: category, dtype: int64\n",
            "\n"
          ]
        }
      ],
      "source": [
        "print(f\"Shape of tokenized labels of the training set: {train_labels.shape}\\n\")\n",
        "print(f\"Shape of tokenized labels of the validation set: {val_labels.shape}\\n\")\n",
        "print(f\"First 5 labels of the training set:\\n{train_labels[:5]}\\n\")\n",
        "print(f\"First 5 labels of the validation set:\\n{val_labels[:5]}\\n\")"
      ]
    },
    {
      "cell_type": "code",
      "execution_count": 39,
      "metadata": {
        "id": "JiRUPG2VuKXq",
        "colab": {
          "base_uri": "https://localhost:8080/"
        },
        "outputId": "d6e6331e-d44b-4e3f-cf88-ff7335ab0440"
      },
      "outputs": [
        {
          "output_type": "execute_result",
          "data": {
            "text/plain": [
              "array([29, 25,  2,  0,  9,  5, 10, 28,  4, 24,  1, 11, 13,  3, 31, 40, 21,\n",
              "       15,  7,  6, 33, 37, 26, 20,  8, 36, 12, 18, 34, 32, 14, 17, 16, 27,\n",
              "       19, 22, 35, 30, 38, 39, 23])"
            ]
          },
          "metadata": {},
          "execution_count": 39
        }
      ],
      "source": [
        "val_labels.unique()"
      ]
    },
    {
      "cell_type": "code",
      "execution_count": 40,
      "metadata": {
        "id": "DoGX_VeJg1oD"
      },
      "outputs": [],
      "source": [
        "from keras.callbacks import EarlyStopping\n",
        "earlyStop=EarlyStopping(monitor=\"accuracy\",verbose=2,mode='auto',patience=5)"
      ]
    },
    {
      "cell_type": "code",
      "source": [
        "maxlen"
      ],
      "metadata": {
        "id": "iui8c6t4XtR8",
        "colab": {
          "base_uri": "https://localhost:8080/"
        },
        "outputId": "8926b08c-e035-4bcc-d5d7-877e131e2811"
      },
      "execution_count": 41,
      "outputs": [
        {
          "output_type": "execute_result",
          "data": {
            "text/plain": [
              "139"
            ]
          },
          "metadata": {},
          "execution_count": 41
        }
      ]
    },
    {
      "cell_type": "code",
      "execution_count": 71,
      "metadata": {
        "id": "XxpWmNpsvw4A"
      },
      "outputs": [],
      "source": [
        "def model(num_words, embedding_dim, maxlen, lstm1_dim, lstm2_dim, num_categories):\n",
        "    tf.random.set_seed(123)\n",
        "\n",
        "    model = tf.keras.Sequential([\n",
        "        tf.keras.layers.Embedding(num_words, embedding_dim, input_length=maxlen),\n",
        "        tf.keras.layers.Bidirectional(tf.keras.layers.LSTM(lstm2_dim, return_sequences=True)),\n",
        "        tf.keras.layers.Bidirectional(tf.keras.layers.LSTM(lstm1_dim, return_sequences=True)),\n",
        "        tf.keras.layers.Bidirectional(tf.keras.layers.LSTM(64)),\n",
        "        tf.keras.layers.Dropout(0.2),\n",
        "        # tf.keras.layers.Dense(64, activation='relu'),\n",
        "        tf.keras.layers.Dense(num_categories, activation='softmax')\n",
        "    ])\n",
        "\n",
        "    model.compile(loss='sparse_categorical_crossentropy',\n",
        "                  optimizer='adam',\n",
        "                  metrics=['accuracy'])\n",
        "\n",
        "    return model"
      ]
    },
    {
      "cell_type": "code",
      "execution_count": 43,
      "metadata": {
        "id": "S2nhonPQzoqm",
        "colab": {
          "base_uri": "https://localhost:8080/"
        },
        "outputId": "7526d814-e886-4810-c544-f3f1298ca0ee"
      },
      "outputs": [
        {
          "output_type": "stream",
          "name": "stdout",
          "text": [
            "Number of unique categories in the training dataset: 41\n"
          ]
        }
      ],
      "source": [
        "num_unique_categories = np.unique(y)\n",
        "print(f'Number of unique categories in the training dataset: {len(num_unique_categories)}')"
      ]
    },
    {
      "cell_type": "code",
      "execution_count": 72,
      "metadata": {
        "id": "ybP5C1zqzouG",
        "colab": {
          "base_uri": "https://localhost:8080/",
          "height": 409
        },
        "outputId": "fb9e589f-548d-4e5f-8c1f-651be35eec10"
      },
      "outputs": [
        {
          "output_type": "stream",
          "name": "stderr",
          "text": [
            "/usr/local/lib/python3.10/dist-packages/keras/src/layers/core/embedding.py:90: UserWarning: Argument `input_length` is deprecated. Just remove it.\n",
            "  warnings.warn(\n"
          ]
        },
        {
          "output_type": "display_data",
          "data": {
            "text/plain": [
              "\u001b[1mModel: \"sequential_11\"\u001b[0m\n"
            ],
            "text/html": [
              "<pre style=\"white-space:pre;overflow-x:auto;line-height:normal;font-family:Menlo,'DejaVu Sans Mono',consolas,'Courier New',monospace\"><span style=\"font-weight: bold\">Model: \"sequential_11\"</span>\n",
              "</pre>\n"
            ]
          },
          "metadata": {}
        },
        {
          "output_type": "display_data",
          "data": {
            "text/plain": [
              "┏━━━━━━━━━━━━━━━━━━━━━━━━━━━━━━━━━━━━━━┳━━━━━━━━━━━━━━━━━━━━━━━━━━━━━┳━━━━━━━━━━━━━━━━━┓\n",
              "┃\u001b[1m \u001b[0m\u001b[1mLayer (type)                        \u001b[0m\u001b[1m \u001b[0m┃\u001b[1m \u001b[0m\u001b[1mOutput Shape               \u001b[0m\u001b[1m \u001b[0m┃\u001b[1m \u001b[0m\u001b[1m        Param #\u001b[0m\u001b[1m \u001b[0m┃\n",
              "┡━━━━━━━━━━━━━━━━━━━━━━━━━━━━━━━━━━━━━━╇━━━━━━━━━━━━━━━━━━━━━━━━━━━━━╇━━━━━━━━━━━━━━━━━┩\n",
              "│ embedding_11 (\u001b[38;5;33mEmbedding\u001b[0m)             │ ?                           │     \u001b[38;5;34m0\u001b[0m (unbuilt) │\n",
              "├──────────────────────────────────────┼─────────────────────────────┼─────────────────┤\n",
              "│ bidirectional_32 (\u001b[38;5;33mBidirectional\u001b[0m)     │ ?                           │     \u001b[38;5;34m0\u001b[0m (unbuilt) │\n",
              "├──────────────────────────────────────┼─────────────────────────────┼─────────────────┤\n",
              "│ bidirectional_33 (\u001b[38;5;33mBidirectional\u001b[0m)     │ ?                           │     \u001b[38;5;34m0\u001b[0m (unbuilt) │\n",
              "├──────────────────────────────────────┼─────────────────────────────┼─────────────────┤\n",
              "│ bidirectional_34 (\u001b[38;5;33mBidirectional\u001b[0m)     │ ?                           │     \u001b[38;5;34m0\u001b[0m (unbuilt) │\n",
              "├──────────────────────────────────────┼─────────────────────────────┼─────────────────┤\n",
              "│ dropout_10 (\u001b[38;5;33mDropout\u001b[0m)                 │ ?                           │     \u001b[38;5;34m0\u001b[0m (unbuilt) │\n",
              "├──────────────────────────────────────┼─────────────────────────────┼─────────────────┤\n",
              "│ dense_11 (\u001b[38;5;33mDense\u001b[0m)                     │ ?                           │     \u001b[38;5;34m0\u001b[0m (unbuilt) │\n",
              "└──────────────────────────────────────┴─────────────────────────────┴─────────────────┘\n"
            ],
            "text/html": [
              "<pre style=\"white-space:pre;overflow-x:auto;line-height:normal;font-family:Menlo,'DejaVu Sans Mono',consolas,'Courier New',monospace\">┏━━━━━━━━━━━━━━━━━━━━━━━━━━━━━━━━━━━━━━┳━━━━━━━━━━━━━━━━━━━━━━━━━━━━━┳━━━━━━━━━━━━━━━━━┓\n",
              "┃<span style=\"font-weight: bold\"> Layer (type)                         </span>┃<span style=\"font-weight: bold\"> Output Shape                </span>┃<span style=\"font-weight: bold\">         Param # </span>┃\n",
              "┡━━━━━━━━━━━━━━━━━━━━━━━━━━━━━━━━━━━━━━╇━━━━━━━━━━━━━━━━━━━━━━━━━━━━━╇━━━━━━━━━━━━━━━━━┩\n",
              "│ embedding_11 (<span style=\"color: #0087ff; text-decoration-color: #0087ff\">Embedding</span>)             │ ?                           │     <span style=\"color: #00af00; text-decoration-color: #00af00\">0</span> (unbuilt) │\n",
              "├──────────────────────────────────────┼─────────────────────────────┼─────────────────┤\n",
              "│ bidirectional_32 (<span style=\"color: #0087ff; text-decoration-color: #0087ff\">Bidirectional</span>)     │ ?                           │     <span style=\"color: #00af00; text-decoration-color: #00af00\">0</span> (unbuilt) │\n",
              "├──────────────────────────────────────┼─────────────────────────────┼─────────────────┤\n",
              "│ bidirectional_33 (<span style=\"color: #0087ff; text-decoration-color: #0087ff\">Bidirectional</span>)     │ ?                           │     <span style=\"color: #00af00; text-decoration-color: #00af00\">0</span> (unbuilt) │\n",
              "├──────────────────────────────────────┼─────────────────────────────┼─────────────────┤\n",
              "│ bidirectional_34 (<span style=\"color: #0087ff; text-decoration-color: #0087ff\">Bidirectional</span>)     │ ?                           │     <span style=\"color: #00af00; text-decoration-color: #00af00\">0</span> (unbuilt) │\n",
              "├──────────────────────────────────────┼─────────────────────────────┼─────────────────┤\n",
              "│ dropout_10 (<span style=\"color: #0087ff; text-decoration-color: #0087ff\">Dropout</span>)                 │ ?                           │     <span style=\"color: #00af00; text-decoration-color: #00af00\">0</span> (unbuilt) │\n",
              "├──────────────────────────────────────┼─────────────────────────────┼─────────────────┤\n",
              "│ dense_11 (<span style=\"color: #0087ff; text-decoration-color: #0087ff\">Dense</span>)                     │ ?                           │     <span style=\"color: #00af00; text-decoration-color: #00af00\">0</span> (unbuilt) │\n",
              "└──────────────────────────────────────┴─────────────────────────────┴─────────────────┘\n",
              "</pre>\n"
            ]
          },
          "metadata": {}
        },
        {
          "output_type": "display_data",
          "data": {
            "text/plain": [
              "\u001b[1m Total params: \u001b[0m\u001b[38;5;34m0\u001b[0m (0.00 B)\n"
            ],
            "text/html": [
              "<pre style=\"white-space:pre;overflow-x:auto;line-height:normal;font-family:Menlo,'DejaVu Sans Mono',consolas,'Courier New',monospace\"><span style=\"font-weight: bold\"> Total params: </span><span style=\"color: #00af00; text-decoration-color: #00af00\">0</span> (0.00 B)\n",
              "</pre>\n"
            ]
          },
          "metadata": {}
        },
        {
          "output_type": "display_data",
          "data": {
            "text/plain": [
              "\u001b[1m Trainable params: \u001b[0m\u001b[38;5;34m0\u001b[0m (0.00 B)\n"
            ],
            "text/html": [
              "<pre style=\"white-space:pre;overflow-x:auto;line-height:normal;font-family:Menlo,'DejaVu Sans Mono',consolas,'Courier New',monospace\"><span style=\"font-weight: bold\"> Trainable params: </span><span style=\"color: #00af00; text-decoration-color: #00af00\">0</span> (0.00 B)\n",
              "</pre>\n"
            ]
          },
          "metadata": {}
        },
        {
          "output_type": "display_data",
          "data": {
            "text/plain": [
              "\u001b[1m Non-trainable params: \u001b[0m\u001b[38;5;34m0\u001b[0m (0.00 B)\n"
            ],
            "text/html": [
              "<pre style=\"white-space:pre;overflow-x:auto;line-height:normal;font-family:Menlo,'DejaVu Sans Mono',consolas,'Courier New',monospace\"><span style=\"font-weight: bold\"> Non-trainable params: </span><span style=\"color: #00af00; text-decoration-color: #00af00\">0</span> (0.00 B)\n",
              "</pre>\n"
            ]
          },
          "metadata": {}
        },
        {
          "output_type": "stream",
          "name": "stdout",
          "text": [
            "\n",
            "Model Summary: None\n"
          ]
        }
      ],
      "source": [
        "# create the model\n",
        "# tf.get_logger().setLevel('ERROR')\n",
        "model = model(NUM_WORDS, EMBEDDING_DIM, MAXLEN, lstm1_dim, lstm2_dim, len(num_unique_categories))\n",
        "\n",
        "print(f'\\nModel Summary: {model.summary()}')"
      ]
    },
    {
      "cell_type": "code",
      "execution_count": null,
      "metadata": {
        "id": "Jk-2N1jy0ALC",
        "colab": {
          "base_uri": "https://localhost:8080/"
        },
        "outputId": "b706c30e-4891-47f0-b1d6-92146ffda280"
      },
      "outputs": [
        {
          "output_type": "stream",
          "name": "stdout",
          "text": [
            "Epoch 1/30\n",
            "\u001b[1m453/453\u001b[0m \u001b[32m━━━━━━━━━━━━━━━━━━━━\u001b[0m\u001b[37m\u001b[0m \u001b[1m33s\u001b[0m 48ms/step - accuracy: 0.2378 - loss: 3.0207 - val_accuracy: 0.4238 - val_loss: 2.2608\n",
            "Epoch 2/30\n",
            "\u001b[1m453/453\u001b[0m \u001b[32m━━━━━━━━━━━━━━━━━━━━\u001b[0m\u001b[37m\u001b[0m \u001b[1m36s\u001b[0m 49ms/step - accuracy: 0.4291 - loss: 2.2376 - val_accuracy: 0.4597 - val_loss: 2.0901\n",
            "Epoch 3/30\n",
            "\u001b[1m453/453\u001b[0m \u001b[32m━━━━━━━━━━━━━━━━━━━━\u001b[0m\u001b[37m\u001b[0m \u001b[1m22s\u001b[0m 48ms/step - accuracy: 0.4640 - loss: 2.0810 - val_accuracy: 0.4813 - val_loss: 1.9929\n",
            "Epoch 4/30\n",
            "\u001b[1m453/453\u001b[0m \u001b[32m━━━━━━━━━━━━━━━━━━━━\u001b[0m\u001b[37m\u001b[0m \u001b[1m41s\u001b[0m 49ms/step - accuracy: 0.4824 - loss: 1.9921 - val_accuracy: 0.4899 - val_loss: 1.9515\n",
            "Epoch 5/30\n",
            "\u001b[1m453/453\u001b[0m \u001b[32m━━━━━━━━━━━━━━━━━━━━\u001b[0m\u001b[37m\u001b[0m \u001b[1m41s\u001b[0m 49ms/step - accuracy: 0.4920 - loss: 1.9426 - val_accuracy: 0.4956 - val_loss: 1.9219\n",
            "Epoch 6/30\n",
            "\u001b[1m453/453\u001b[0m \u001b[32m━━━━━━━━━━━━━━━━━━━━\u001b[0m\u001b[37m\u001b[0m \u001b[1m41s\u001b[0m 48ms/step - accuracy: 0.5012 - loss: 1.9009 - val_accuracy: 0.4992 - val_loss: 1.9029\n",
            "Epoch 7/30\n",
            "\u001b[1m453/453\u001b[0m \u001b[32m━━━━━━━━━━━━━━━━━━━━\u001b[0m\u001b[37m\u001b[0m \u001b[1m41s\u001b[0m 49ms/step - accuracy: 0.5104 - loss: 1.8662 - val_accuracy: 0.5040 - val_loss: 1.8823\n",
            "Epoch 8/30\n",
            "\u001b[1m453/453\u001b[0m \u001b[32m━━━━━━━━━━━━━━━━━━━━\u001b[0m\u001b[37m\u001b[0m \u001b[1m21s\u001b[0m 47ms/step - accuracy: 0.5170 - loss: 1.8340 - val_accuracy: 0.5082 - val_loss: 1.8652\n",
            "Epoch 9/30\n",
            "\u001b[1m453/453\u001b[0m \u001b[32m━━━━━━━━━━━━━━━━━━━━\u001b[0m\u001b[37m\u001b[0m \u001b[1m41s\u001b[0m 47ms/step - accuracy: 0.5230 - loss: 1.8006 - val_accuracy: 0.5133 - val_loss: 1.8459\n",
            "Epoch 10/30\n",
            "\u001b[1m453/453\u001b[0m \u001b[32m━━━━━━━━━━━━━━━━━━━━\u001b[0m\u001b[37m\u001b[0m \u001b[1m42s\u001b[0m 48ms/step - accuracy: 0.5299 - loss: 1.7729 - val_accuracy: 0.5140 - val_loss: 1.8373\n",
            "Epoch 11/30\n",
            "\u001b[1m453/453\u001b[0m \u001b[32m━━━━━━━━━━━━━━━━━━━━\u001b[0m\u001b[37m\u001b[0m \u001b[1m21s\u001b[0m 47ms/step - accuracy: 0.5342 - loss: 1.7508 - val_accuracy: 0.5175 - val_loss: 1.8267\n",
            "Epoch 12/30\n",
            "\u001b[1m453/453\u001b[0m \u001b[32m━━━━━━━━━━━━━━━━━━━━\u001b[0m\u001b[37m\u001b[0m \u001b[1m41s\u001b[0m 46ms/step - accuracy: 0.5383 - loss: 1.7252 - val_accuracy: 0.5181 - val_loss: 1.8251\n",
            "Epoch 13/30\n",
            "\u001b[1m453/453\u001b[0m \u001b[32m━━━━━━━━━━━━━━━━━━━━\u001b[0m\u001b[37m\u001b[0m \u001b[1m22s\u001b[0m 49ms/step - accuracy: 0.5446 - loss: 1.7058 - val_accuracy: 0.5181 - val_loss: 1.8252\n",
            "Epoch 14/30\n",
            "\u001b[1m453/453\u001b[0m \u001b[32m━━━━━━━━━━━━━━━━━━━━\u001b[0m\u001b[37m\u001b[0m \u001b[1m41s\u001b[0m 49ms/step - accuracy: 0.5491 - loss: 1.6900 - val_accuracy: 0.5192 - val_loss: 1.8267\n",
            "Epoch 15/30\n",
            "\u001b[1m453/453\u001b[0m \u001b[32m━━━━━━━━━━━━━━━━━━━━\u001b[0m\u001b[37m\u001b[0m \u001b[1m41s\u001b[0m 49ms/step - accuracy: 0.5503 - loss: 1.6727 - val_accuracy: 0.5187 - val_loss: 1.8254\n",
            "Epoch 16/30\n",
            "\u001b[1m453/453\u001b[0m \u001b[32m━━━━━━━━━━━━━━━━━━━━\u001b[0m\u001b[37m\u001b[0m \u001b[1m42s\u001b[0m 51ms/step - accuracy: 0.5541 - loss: 1.6558 - val_accuracy: 0.5182 - val_loss: 1.8321\n",
            "Epoch 17/30\n",
            "\u001b[1m453/453\u001b[0m \u001b[32m━━━━━━━━━━━━━━━━━━━━\u001b[0m\u001b[37m\u001b[0m \u001b[1m40s\u001b[0m 49ms/step - accuracy: 0.5576 - loss: 1.6435 - val_accuracy: 0.5179 - val_loss: 1.8332\n",
            "Epoch 18/30\n",
            "\u001b[1m453/453\u001b[0m \u001b[32m━━━━━━━━━━━━━━━━━━━━\u001b[0m\u001b[37m\u001b[0m \u001b[1m41s\u001b[0m 48ms/step - accuracy: 0.5621 - loss: 1.6261 - val_accuracy: 0.5154 - val_loss: 1.8453\n",
            "Epoch 19/30\n",
            "\u001b[1m453/453\u001b[0m \u001b[32m━━━━━━━━━━━━━━━━━━━━\u001b[0m\u001b[37m\u001b[0m \u001b[1m41s\u001b[0m 48ms/step - accuracy: 0.5623 - loss: 1.6151 - val_accuracy: 0.5159 - val_loss: 1.8537\n",
            "Epoch 20/30\n",
            "\u001b[1m453/453\u001b[0m \u001b[32m━━━━━━━━━━━━━━━━━━━━\u001b[0m\u001b[37m\u001b[0m \u001b[1m41s\u001b[0m 49ms/step - accuracy: 0.5676 - loss: 1.6008 - val_accuracy: 0.5158 - val_loss: 1.8591\n",
            "Epoch 21/30\n",
            "\u001b[1m453/453\u001b[0m \u001b[32m━━━━━━━━━━━━━━━━━━━━\u001b[0m\u001b[37m\u001b[0m \u001b[1m40s\u001b[0m 47ms/step - accuracy: 0.5705 - loss: 1.5854 - val_accuracy: 0.5149 - val_loss: 1.8685\n",
            "Epoch 22/30\n",
            "\u001b[1m453/453\u001b[0m \u001b[32m━━━━━━━━━━━━━━━━━━━━\u001b[0m\u001b[37m\u001b[0m \u001b[1m41s\u001b[0m 48ms/step - accuracy: 0.5733 - loss: 1.5717 - val_accuracy: 0.5131 - val_loss: 1.8728\n",
            "Epoch 23/30\n",
            "\u001b[1m453/453\u001b[0m \u001b[32m━━━━━━━━━━━━━━━━━━━━\u001b[0m\u001b[37m\u001b[0m \u001b[1m41s\u001b[0m 49ms/step - accuracy: 0.5767 - loss: 1.5555 - val_accuracy: 0.5128 - val_loss: 1.8841\n",
            "Epoch 24/30\n",
            "\u001b[1m453/453\u001b[0m \u001b[32m━━━━━━━━━━━━━━━━━━━━\u001b[0m\u001b[37m\u001b[0m \u001b[1m41s\u001b[0m 49ms/step - accuracy: 0.5798 - loss: 1.5459 - val_accuracy: 0.5128 - val_loss: 1.8907\n",
            "Epoch 25/30\n",
            "\u001b[1m453/453\u001b[0m \u001b[32m━━━━━━━━━━━━━━━━━━━━\u001b[0m\u001b[37m\u001b[0m \u001b[1m41s\u001b[0m 49ms/step - accuracy: 0.5834 - loss: 1.5315 - val_accuracy: 0.5113 - val_loss: 1.8894\n",
            "Epoch 26/30\n",
            "\u001b[1m453/453\u001b[0m \u001b[32m━━━━━━━━━━━━━━━━━━━━\u001b[0m\u001b[37m\u001b[0m \u001b[1m41s\u001b[0m 48ms/step - accuracy: 0.5814 - loss: 1.5322 - val_accuracy: 0.5105 - val_loss: 1.8972\n",
            "Epoch 27/30\n",
            "\u001b[1m453/453\u001b[0m \u001b[32m━━━━━━━━━━━━━━━━━━━━\u001b[0m\u001b[37m\u001b[0m \u001b[1m41s\u001b[0m 49ms/step - accuracy: 0.5888 - loss: 1.5069 - val_accuracy: 0.5119 - val_loss: 1.9105\n",
            "Epoch 28/30\n",
            "\u001b[1m453/453\u001b[0m \u001b[32m━━━━━━━━━━━━━━━━━━━━\u001b[0m\u001b[37m\u001b[0m \u001b[1m21s\u001b[0m 47ms/step - accuracy: 0.5932 - loss: 1.4945 - val_accuracy: 0.5112 - val_loss: 1.9130\n",
            "Epoch 29/30\n",
            "\u001b[1m453/453\u001b[0m \u001b[32m━━━━━━━━━━━━━━━━━━━━\u001b[0m\u001b[37m\u001b[0m \u001b[1m41s\u001b[0m 47ms/step - accuracy: 0.5933 - loss: 1.4823 - val_accuracy: 0.5097 - val_loss: 1.9306\n",
            "Epoch 30/30\n",
            "\u001b[1m453/453\u001b[0m \u001b[32m━━━━━━━━━━━━━━━━━━━━\u001b[0m\u001b[37m\u001b[0m \u001b[1m41s\u001b[0m 48ms/step - accuracy: 0.5968 - loss: 1.4725 - val_accuracy: 0.5094 - val_loss: 1.9364\n"
          ]
        }
      ],
      "source": [
        "history = model.fit(train_padded_seq, train_labels, epochs=30, validation_data=(val_padded_seq, val_labels),batch_size=256)"
      ]
    },
    {
      "cell_type": "markdown",
      "metadata": {
        "id": "OfWp-jf1xE3F"
      },
      "source": [
        "#Model Evaluation"
      ]
    },
    {
      "cell_type": "code",
      "execution_count": null,
      "metadata": {
        "id": "Eo-NDTqhhjyh"
      },
      "outputs": [],
      "source": [
        "def evaluate_model(history):\n",
        "    # Check how accracy and loss changes over the training epochs\n",
        "\n",
        "    epoch_accuracy = history.history['accuracy']\n",
        "    epoch_val_accuracy = history.history['val_accuracy']\n",
        "    epoch_loss = history.history['loss']\n",
        "    epoch_val_loss = history.history['val_loss']\n",
        "\n",
        "    plt.figure(figsize=(20, 6))\n",
        "\n",
        "    plt.subplot(1, 2, 1)\n",
        "    plt.plot(range(0, len(epoch_accuracy)), epoch_accuracy, 'b-', linewidth=2, label='Training Accuracy')\n",
        "    plt.plot(range(0, len(epoch_val_accuracy)), epoch_val_accuracy, 'r-', linewidth=2, label='Validation Accuracy')\n",
        "    plt.title('Training & validation accuracy over epochs')\n",
        "    plt.xlabel('Epoch')\n",
        "    plt.ylabel('Accuracy')\n",
        "    plt.legend(loc='best')\n",
        "\n",
        "    plt.subplot(1, 2, 2)\n",
        "    plt.plot(range(0, len(epoch_loss)), epoch_loss, 'b-', linewidth=2, label='Training Loss')\n",
        "    plt.plot(range(0, len(epoch_val_loss)), epoch_val_loss, 'r-', linewidth=2, label='Validation Loss')\n",
        "    plt.title('Training & validation loss over epochs')\n",
        "    plt.xlabel('Epoch')\n",
        "    plt.ylabel('Loss')\n",
        "    plt.legend(loc='best')\n",
        "\n",
        "    plt.show()"
      ]
    },
    {
      "cell_type": "code",
      "execution_count": null,
      "metadata": {
        "id": "k8LPHySDwf9J",
        "colab": {
          "base_uri": "https://localhost:8080/",
          "height": 434
        },
        "outputId": "ac934afc-fabb-4827-ea20-dbfb8b0d536b"
      },
      "outputs": [
        {
          "output_type": "display_data",
          "data": {
            "text/plain": [
              "<Figure size 2000x600 with 2 Axes>"
            ],
            "image/png": "[encoded data removed]"
          },
          "metadata": {}
        }
      ],
      "source": [
        "\n",
        "# check how accuract & loss changes over epochs during the training process\n",
        "evaluate_model(history)"
      ]
    },
    {
      "cell_type": "code",
      "execution_count": null,
      "metadata": {
        "id": "2qKdDtSWEpHH"
      },
      "outputs": [],
      "source": [
        "import os\n",
        "# file_path = os.path.join('/content/drive/MyDrive/NLP/NEWS', 'LSTM.h5')\n",
        "# model.save(file_path)"
      ]
    },
    {
      "cell_type": "code",
      "source": [
        "# from keras.models import load_model\n",
        "# model = load_model('/content/drive/MyDrive/NLP/NEWS/LSTM.h5')"
      ],
      "metadata": {
        "id": "mypHgM59Qg-m"
      },
      "execution_count": null,
      "outputs": []
    },
    {
      "cell_type": "code",
      "source": [
        "test_df.info()"
      ],
      "metadata": {
        "colab": {
          "base_uri": "https://localhost:8080/"
        },
        "id": "BKS9tNc0QhBo",
        "outputId": "dc57a5ab-bc3c-4f31-bc4a-f39a98cedc4f"
      },
      "execution_count": null,
      "outputs": [
        {
          "output_type": "stream",
          "name": "stdout",
          "text": [
            "<class 'pandas.core.frame.DataFrame'>\n",
            "Index: 36256 entries, 0 to 40170\n",
            "Data columns (total 7 columns):\n",
            " #   Column             Non-Null Count  Dtype \n",
            "---  ------             --------------  ----- \n",
            " 0   REF_NO             36256 non-null  int64 \n",
            " 1   headline           36256 non-null  object\n",
            " 2   authors            36256 non-null  object\n",
            " 3   link               36256 non-null  object\n",
            " 4   short_description  36256 non-null  object\n",
            " 5   date               36256 non-null  object\n",
            " 6   content            36256 non-null  object\n",
            "dtypes: int64(1), object(6)\n",
            "memory usage: 3.2+ MB\n"
          ]
        }
      ]
    },
    {
      "cell_type": "code",
      "source": [
        "test_df.head()"
      ],
      "metadata": {
        "colab": {
          "base_uri": "https://localhost:8080/",
          "height": 362
        },
        "id": "hOi91sTlXdr-",
        "outputId": "eebc4ea9-d9ed-4fcf-f7a1-8248cce18921"
      },
      "execution_count": null,
      "outputs": [
        {
          "output_type": "execute_result",
          "data": {
            "text/plain": [
              "   REF_NO                                           headline  \\\n",
              "0  146508  Lindsay Lohan Clarifies Venice Film Festival A...   \n",
              "1   90083   Marco Rubio and the Challenge to Hillary Clinton   \n",
              "2   57183  Shoutout To Woke Companies: You Could Win $100...   \n",
              "3   11632  'Religious Freedom' Clauses Are Point Of Conte...   \n",
              "4  196326  What It Would Really Be Like to Be Married to ...   \n",
              "\n",
              "                                             authors  \\\n",
              "0                                            Unknown   \n",
              "1  Hoyt Hilsman, ContributorAuthor, journalist an...   \n",
              "2                                Sarah Ruiz-Grossman   \n",
              "3                                     Lydia O'Connor   \n",
              "4  Jenny Isenman, Contributor\\nJenny From the Blo...   \n",
              "\n",
              "                                                link  \\\n",
              "0  https://www.huffingtonpost.com/entry/lindsay-l...   \n",
              "1  https://www.huffingtonpost.com/entry/marco-rub...   \n",
              "2  https://www.huffingtonpost.com/entry/macarthur...   \n",
              "3  https://www.huffingtonpost.com/entry/australia...   \n",
              "4  https://www.huffingtonpost.com/entry/christian...   \n",
              "\n",
              "                                   short_description        date  \\\n",
              "0  Lohan had already expressed her support for he...  2013-08-31   \n",
              "1  The conventional wisdom among Democrats is tha...  2015-05-25   \n",
              "2  “Solving society’s most pressing problems isn’...  2016-06-02   \n",
              "3  Australians voted in favor of legalizing same-...  2017-11-16   \n",
              "4  Why can't our hubby's be more like Christian G...  2012-03-16   \n",
              "\n",
              "                                             content  \n",
              "0  Lindsay Lohan Clarifies Venice Film Festival A...  \n",
              "1  Marco Rubio and the Challenge to Hillary Clint...  \n",
              "2  Shoutout To Woke Companies: You Could Win $100...  \n",
              "3  'Religious Freedom' Clauses Are Point Of Conte...  \n",
              "4  What It Would Really Be Like to Be Married to ...  "
            ],
            "text/html": [
              "\n",
              "  <div id=\"df-a4b36fa6-84b0-4f31-b320-f0ce3b2d5466\" class=\"colab-df-container\">\n",
              "    <div>\n",
              "<style scoped>\n",
              "    .dataframe tbody tr th:only-of-type {\n",
              "        vertical-align: middle;\n",
              "    }\n",
              "\n",
              "    .dataframe tbody tr th {\n",
              "        vertical-align: top;\n",
              "    }\n",
              "\n",
              "    .dataframe thead th {\n",
              "        text-align: right;\n",
              "    }\n",
              "</style>\n",
              "<table border=\"1\" class=\"dataframe\">\n",
              "  <thead>\n",
              "    <tr style=\"text-align: right;\">\n",
              "      <th></th>\n",
              "      <th>REF_NO</th>\n",
              "      <th>headline</th>\n",
              "      <th>authors</th>\n",
              "      <th>link</th>\n",
              "      <th>short_description</th>\n",
              "      <th>date</th>\n",
              "      <th>content</th>\n",
              "    </tr>\n",
              "  </thead>\n",
              "  <tbody>\n",
              "    <tr>\n",
              "      <th>0</th>\n",
              "      <td>146508</td>\n",
              "      <td>Lindsay Lohan Clarifies Venice Film Festival A...</td>\n",
              "      <td>Unknown</td>\n",
              "      <td>https://www.huffingtonpost.com/entry/lindsay-l...</td>\n",
              "      <td>Lohan had already expressed her support for he...</td>\n",
              "      <td>2013-08-31</td>\n",
              "      <td>Lindsay Lohan Clarifies Venice Film Festival A...</td>\n",
              "    </tr>\n",
              "    <tr>\n",
              "      <th>1</th>\n",
              "      <td>90083</td>\n",
              "      <td>Marco Rubio and the Challenge to Hillary Clinton</td>\n",
              "      <td>Hoyt Hilsman, ContributorAuthor, journalist an...</td>\n",
              "      <td>https://www.huffingtonpost.com/entry/marco-rub...</td>\n",
              "      <td>The conventional wisdom among Democrats is tha...</td>\n",
              "      <td>2015-05-25</td>\n",
              "      <td>Marco Rubio and the Challenge to Hillary Clint...</td>\n",
              "    </tr>\n",
              "    <tr>\n",
              "      <th>2</th>\n",
              "      <td>57183</td>\n",
              "      <td>Shoutout To Woke Companies: You Could Win $100...</td>\n",
              "      <td>Sarah Ruiz-Grossman</td>\n",
              "      <td>https://www.huffingtonpost.com/entry/macarthur...</td>\n",
              "      <td>“Solving society’s most pressing problems isn’...</td>\n",
              "      <td>2016-06-02</td>\n",
              "      <td>Shoutout To Woke Companies: You Could Win $100...</td>\n",
              "    </tr>\n",
              "    <tr>\n",
              "      <th>3</th>\n",
              "      <td>11632</td>\n",
              "      <td>'Religious Freedom' Clauses Are Point Of Conte...</td>\n",
              "      <td>Lydia O'Connor</td>\n",
              "      <td>https://www.huffingtonpost.com/entry/australia...</td>\n",
              "      <td>Australians voted in favor of legalizing same-...</td>\n",
              "      <td>2017-11-16</td>\n",
              "      <td>'Religious Freedom' Clauses Are Point Of Conte...</td>\n",
              "    </tr>\n",
              "    <tr>\n",
              "      <th>4</th>\n",
              "      <td>196326</td>\n",
              "      <td>What It Would Really Be Like to Be Married to ...</td>\n",
              "      <td>Jenny Isenman, Contributor\\nJenny From the Blo...</td>\n",
              "      <td>https://www.huffingtonpost.com/entry/christian...</td>\n",
              "      <td>Why can't our hubby's be more like Christian G...</td>\n",
              "      <td>2012-03-16</td>\n",
              "      <td>What It Would Really Be Like to Be Married to ...</td>\n",
              "    </tr>\n",
              "  </tbody>\n",
              "</table>\n",
              "</div>\n",
              "    <div class=\"colab-df-buttons\">\n",
              "\n",
              "  <div class=\"colab-df-container\">\n",
              "    <button class=\"colab-df-convert\" onclick=\"convertToInteractive('df-a4b36fa6-84b0-4f31-b320-f0ce3b2d5466')\"\n",
              "            title=\"Convert this dataframe to an interactive table.\"\n",
              "            style=\"display:none;\">\n",
              "\n",
              "  <svg xmlns=\"http://www.w3.org/2000/svg\" height=\"24px\" viewBox=\"0 -960 960 960\">\n",
              "    <path d=\"M120-120v-720h720v720H120Zm60-500h600v-160H180v160Zm220 220h160v-160H400v160Zm0 220h160v-160H400v160ZM180-400h160v-160H180v160Zm440 0h160v-160H620v160ZM180-180h160v-160H180v160Zm440 0h160v-160H620v160Z\"/>\n",
              "  </svg>\n",
              "    </button>\n",
              "\n",
              "  <style>\n",
              "    .colab-df-container {\n",
              "      display:flex;\n",
              "      gap: 12px;\n",
              "    }\n",
              "\n",
              "    .colab-df-convert {\n",
              "      background-color: #E8F0FE;\n",
              "      border: none;\n",
              "      border-radius: 50%;\n",
              "      cursor: pointer;\n",
              "      display: none;\n",
              "      fill: #1967D2;\n",
              "      height: 32px;\n",
              "      padding: 0 0 0 0;\n",
              "      width: 32px;\n",
              "    }\n",
              "\n",
              "    .colab-df-convert:hover {\n",
              "      background-color: #E2EBFA;\n",
              "      box-shadow: 0px 1px 2px rgba(60, 64, 67, 0.3), 0px 1px 3px 1px rgba(60, 64, 67, 0.15);\n",
              "      fill: #174EA6;\n",
              "    }\n",
              "\n",
              "    .colab-df-buttons div {\n",
              "      margin-bottom: 4px;\n",
              "    }\n",
              "\n",
              "    [theme=dark] .colab-df-convert {\n",
              "      background-color: #3B4455;\n",
              "      fill: #D2E3FC;\n",
              "    }\n",
              "\n",
              "    [theme=dark] .colab-df-convert:hover {\n",
              "      background-color: #434B5C;\n",
              "      box-shadow: 0px 1px 3px 1px rgba(0, 0, 0, 0.15);\n",
              "      filter: drop-shadow(0px 1px 2px rgba(0, 0, 0, 0.3));\n",
              "      fill: #FFFFFF;\n",
              "    }\n",
              "  </style>\n",
              "\n",
              "    <script>\n",
              "      const buttonEl =\n",
              "        document.querySelector('#df-a4b36fa6-84b0-4f31-b320-f0ce3b2d5466 button.colab-df-convert');\n",
              "      buttonEl.style.display =\n",
              "        google.colab.kernel.accessAllowed ? 'block' : 'none';\n",
              "\n",
              "      async function convertToInteractive(key) {\n",
              "        const element = document.querySelector('#df-a4b36fa6-84b0-4f31-b320-f0ce3b2d5466');\n",
              "        const dataTable =\n",
              "          await google.colab.kernel.invokeFunction('convertToInteractive',\n",
              "                                                    [key], {});\n",
              "        if (!dataTable) return;\n",
              "\n",
              "        const docLinkHtml = 'Like what you see? Visit the ' +\n",
              "          '<a target=\"_blank\" href=https://colab.research.google.com/notebooks/data_table.ipynb>data table notebook</a>'\n",
              "          + ' to learn more about interactive tables.';\n",
              "        element.innerHTML = '';\n",
              "        dataTable['output_type'] = 'display_data';\n",
              "        await google.colab.output.renderOutput(dataTable, element);\n",
              "        const docLink = document.createElement('div');\n",
              "        docLink.innerHTML = docLinkHtml;\n",
              "        element.appendChild(docLink);\n",
              "      }\n",
              "    </script>\n",
              "  </div>\n",
              "\n",
              "\n",
              "<div id=\"df-a4c1878d-8f37-4147-8542-31cf6881b4d3\">\n",
              "  <button class=\"colab-df-quickchart\" onclick=\"quickchart('df-a4c1878d-8f37-4147-8542-31cf6881b4d3')\"\n",
              "            title=\"Suggest charts\"\n",
              "            style=\"display:none;\">\n",
              "\n",
              "<svg xmlns=\"http://www.w3.org/2000/svg\" height=\"24px\"viewBox=\"0 0 24 24\"\n",
              "     width=\"24px\">\n",
              "    <g>\n",
              "        <path d=\"M19 3H5c-1.1 0-2 .9-2 2v14c0 1.1.9 2 2 2h14c1.1 0 2-.9 2-2V5c0-1.1-.9-2-2-2zM9 17H7v-7h2v7zm4 0h-2V7h2v10zm4 0h-2v-4h2v4z\"/>\n",
              "    </g>\n",
              "</svg>\n",
              "  </button>\n",
              "\n",
              "<style>\n",
              "  .colab-df-quickchart {\n",
              "      --bg-color: #E8F0FE;\n",
              "      --fill-color: #1967D2;\n",
              "      --hover-bg-color: #E2EBFA;\n",
              "      --hover-fill-color: #174EA6;\n",
              "      --disabled-fill-color: #AAA;\n",
              "      --disabled-bg-color: #DDD;\n",
              "  }\n",
              "\n",
              "  [theme=dark] .colab-df-quickchart {\n",
              "      --bg-color: #3B4455;\n",
              "      --fill-color: #D2E3FC;\n",
              "      --hover-bg-color: #434B5C;\n",
              "      --hover-fill-color: #FFFFFF;\n",
              "      --disabled-bg-color: #3B4455;\n",
              "      --disabled-fill-color: #666;\n",
              "  }\n",
              "\n",
              "  .colab-df-quickchart {\n",
              "    background-color: var(--bg-color);\n",
              "    border: none;\n",
              "    border-radius: 50%;\n",
              "    cursor: pointer;\n",
              "    display: none;\n",
              "    fill: var(--fill-color);\n",
              "    height: 32px;\n",
              "    padding: 0;\n",
              "    width: 32px;\n",
              "  }\n",
              "\n",
              "  .colab-df-quickchart:hover {\n",
              "    background-color: var(--hover-bg-color);\n",
              "    box-shadow: 0 1px 2px rgba(60, 64, 67, 0.3), 0 1px 3px 1px rgba(60, 64, 67, 0.15);\n",
              "    fill: var(--button-hover-fill-color);\n",
              "  }\n",
              "\n",
              "  .colab-df-quickchart-complete:disabled,\n",
              "  .colab-df-quickchart-complete:disabled:hover {\n",
              "    background-color: var(--disabled-bg-color);\n",
              "    fill: var(--disabled-fill-color);\n",
              "    box-shadow: none;\n",
              "  }\n",
              "\n",
              "  .colab-df-spinner {\n",
              "    border: 2px solid var(--fill-color);\n",
              "    border-color: transparent;\n",
              "    border-bottom-color: var(--fill-color);\n",
              "    animation:\n",
              "      spin 1s steps(1) infinite;\n",
              "  }\n",
              "\n",
              "  @keyframes spin {\n",
              "    0% {\n",
              "      border-color: transparent;\n",
              "      border-bottom-color: var(--fill-color);\n",
              "      border-left-color: var(--fill-color);\n",
              "    }\n",
              "    20% {\n",
              "      border-color: transparent;\n",
              "      border-left-color: var(--fill-color);\n",
              "      border-top-color: var(--fill-color);\n",
              "    }\n",
              "    30% {\n",
              "      border-color: transparent;\n",
              "      border-left-color: var(--fill-color);\n",
              "      border-top-color: var(--fill-color);\n",
              "      border-right-color: var(--fill-color);\n",
              "    }\n",
              "    40% {\n",
              "      border-color: transparent;\n",
              "      border-right-color: var(--fill-color);\n",
              "      border-top-color: var(--fill-color);\n",
              "    }\n",
              "    60% {\n",
              "      border-color: transparent;\n",
              "      border-right-color: var(--fill-color);\n",
              "    }\n",
              "    80% {\n",
              "      border-color: transparent;\n",
              "      border-right-color: var(--fill-color);\n",
              "      border-bottom-color: var(--fill-color);\n",
              "    }\n",
              "    90% {\n",
              "      border-color: transparent;\n",
              "      border-bottom-color: var(--fill-color);\n",
              "    }\n",
              "  }\n",
              "</style>\n",
              "\n",
              "  <script>\n",
              "    async function quickchart(key) {\n",
              "      const quickchartButtonEl =\n",
              "        document.querySelector('#' + key + ' button');\n",
              "      quickchartButtonEl.disabled = true;  // To prevent multiple clicks.\n",
              "      quickchartButtonEl.classList.add('colab-df-spinner');\n",
              "      try {\n",
              "        const charts = await google.colab.kernel.invokeFunction(\n",
              "            'suggestCharts', [key], {});\n",
              "      } catch (error) {\n",
              "        console.error('Error during call to suggestCharts:', error);\n",
              "      }\n",
              "      quickchartButtonEl.classList.remove('colab-df-spinner');\n",
              "      quickchartButtonEl.classList.add('colab-df-quickchart-complete');\n",
              "    }\n",
              "    (() => {\n",
              "      let quickchartButtonEl =\n",
              "        document.querySelector('#df-a4c1878d-8f37-4147-8542-31cf6881b4d3 button');\n",
              "      quickchartButtonEl.style.display =\n",
              "        google.colab.kernel.accessAllowed ? 'block' : 'none';\n",
              "    })();\n",
              "  </script>\n",
              "</div>\n",
              "\n",
              "    </div>\n",
              "  </div>\n"
            ],
            "application/vnd.google.colaboratory.intrinsic+json": {
              "type": "dataframe",
              "variable_name": "test_df",
              "summary": "{\n  \"name\": \"test_df\",\n  \"rows\": 36256,\n  \"fields\": [\n    {\n      \"column\": \"REF_NO\",\n      \"properties\": {\n        \"dtype\": \"number\",\n        \"std\": 60893,\n        \"min\": 2,\n        \"max\": 200849,\n        \"num_unique_values\": 36256,\n        \"samples\": [\n          174412,\n          183429,\n          44420\n        ],\n        \"semantic_type\": \"\",\n        \"description\": \"\"\n      }\n    },\n    {\n      \"column\": \"headline\",\n      \"properties\": {\n        \"dtype\": \"string\",\n        \"num_unique_values\": 36106,\n        \"samples\": [\n          \"Say Goodbye to Monday Blues in 5 Steps\",\n          \"Sarah Silverman Breaks Silence On Longtime Friend Louis C.K.\",\n          \"Innovation, Entrepreneurship And Health Care Reform\"\n        ],\n        \"semantic_type\": \"\",\n        \"description\": \"\"\n      }\n    },\n    {\n      \"column\": \"authors\",\n      \"properties\": {\n        \"dtype\": \"category\",\n        \"num_unique_values\": 9533,\n        \"samples\": [\n          \"Kate Bratskeir, Contributor\\nFood and Health Editor, The Huffington Post\",\n          \"Eleanor Goldberg\",\n          \"Shefali Tsabary, Contributor\\nClinical Psychologist & Author, 'The Conscious Parent' and Out...\"\n        ],\n        \"semantic_type\": \"\",\n        \"description\": \"\"\n      }\n    },\n    {\n      \"column\": \"link\",\n      \"properties\": {\n        \"dtype\": \"string\",\n        \"num_unique_values\": 36255,\n        \"samples\": [\n          \"https://www.huffingtonpost.com/entry/gloria-swanson-actress-photo_us_5b9c5a12e4b03a1dcc7dfab6\",\n          \"https://www.huffingtonpost.com/entry/trump-refugee-admissions_us_5a2ecf0fe4b06e3bccf31026\",\n          \"https://www.huffingtonpost.com/entry/kate-middleton-kim-kardashian-clothes_us_5b9c88ade4b03a1dcc7f894d\"\n        ],\n        \"semantic_type\": \"\",\n        \"description\": \"\"\n      }\n    },\n    {\n      \"column\": \"short_description\",\n      \"properties\": {\n        \"dtype\": \"string\",\n        \"num_unique_values\": 35939,\n        \"samples\": [\n          \"The perfect side to bring to your next picnic or barbecue.\",\n          \"I would like that same kind of trust and credibility from our president and his administration and his advisers.  They have every right to take credit for their successes, but they also have every responsibility to accept the blame for their mistakes, misjudgments and failures.\",\n          \"Your actions in this regard demonstrate an utter disregard for the law and the importance of being transparent. I hope you can admit to your error of judgement, supply the entire contents of that email server to an independent third party for analysis, and do your best in the future to recognize the gravity of all of your actions while you are representing we the people.\"\n        ],\n        \"semantic_type\": \"\",\n        \"description\": \"\"\n      }\n    },\n    {\n      \"column\": \"date\",\n      \"properties\": {\n        \"dtype\": \"object\",\n        \"num_unique_values\": 2308,\n        \"samples\": [\n          \"2018-04-11\",\n          \"2017-04-19\",\n          \"2017-08-18\"\n        ],\n        \"semantic_type\": \"\",\n        \"description\": \"\"\n      }\n    },\n    {\n      \"column\": \"content\",\n      \"properties\": {\n        \"dtype\": \"string\",\n        \"num_unique_values\": 36217,\n        \"samples\": [\n          \"7 Ways to Experience the Often-Elusive Joy of Christmas This can lead to a lot of guilt when you don't feel that you're living up to the ideals you have in your head or when you do live up to those standards but feel miserable while doing so and then feel even worse because you're supposed to feel jolly.\",\n          \"Joseph Gordon-Levitt Breaks Up With 'Sandman' Movie Over Creative Differences \\\"I just don't see eye to eye on what makes Sandman special, and what a film adaptation could/should be.\\\"\",\n          \"Carmelo Anthony Calls On Athletes To Put Morals Over Money In Response To Recent Shootings \\\"Take Charge. Take Action.\\\"\"\n        ],\n        \"semantic_type\": \"\",\n        \"description\": \"\"\n      }\n    }\n  ]\n}"
            }
          },
          "metadata": {},
          "execution_count": 51
        }
      ]
    },
    {
      "cell_type": "code",
      "source": [
        "test_sentences=test_df['content']"
      ],
      "metadata": {
        "id": "Bt7pUUaMQhEp"
      },
      "execution_count": null,
      "outputs": []
    },
    {
      "cell_type": "code",
      "source": [
        "test_sentences=test_sentences.apply(text_preprocess)"
      ],
      "metadata": {
        "id": "ymTyGUW4Tpni"
      },
      "execution_count": null,
      "outputs": []
    },
    {
      "cell_type": "code",
      "source": [
        "test_sentences.head()"
      ],
      "metadata": {
        "colab": {
          "base_uri": "https://localhost:8080/",
          "height": 241
        },
        "id": "DehzIsugTprD",
        "outputId": "4dfbc0c1-d663-4240-9895-5d2f47673ecb"
      },
      "execution_count": null,
      "outputs": [
        {
          "output_type": "execute_result",
          "data": {
            "text/plain": [
              "0     lindsay lohan clarifies venice film festival ...\n",
              "1     marco rubio challenge hillary clinton convent...\n",
              "2     shoutout woke company could win million chang...\n",
              "3     religious freedom clause point contention aus...\n",
              "4     would really like married christian grey hubb...\n",
              "Name: content, dtype: object"
            ],
            "text/html": [
              "<div>\n",
              "<style scoped>\n",
              "    .dataframe tbody tr th:only-of-type {\n",
              "        vertical-align: middle;\n",
              "    }\n",
              "\n",
              "    .dataframe tbody tr th {\n",
              "        vertical-align: top;\n",
              "    }\n",
              "\n",
              "    .dataframe thead th {\n",
              "        text-align: right;\n",
              "    }\n",
              "</style>\n",
              "<table border=\"1\" class=\"dataframe\">\n",
              "  <thead>\n",
              "    <tr style=\"text-align: right;\">\n",
              "      <th></th>\n",
              "      <th>content</th>\n",
              "    </tr>\n",
              "  </thead>\n",
              "  <tbody>\n",
              "    <tr>\n",
              "      <th>0</th>\n",
              "      <td>lindsay lohan clarifies venice film festival ...</td>\n",
              "    </tr>\n",
              "    <tr>\n",
              "      <th>1</th>\n",
              "      <td>marco rubio challenge hillary clinton convent...</td>\n",
              "    </tr>\n",
              "    <tr>\n",
              "      <th>2</th>\n",
              "      <td>shoutout woke company could win million chang...</td>\n",
              "    </tr>\n",
              "    <tr>\n",
              "      <th>3</th>\n",
              "      <td>religious freedom clause point contention aus...</td>\n",
              "    </tr>\n",
              "    <tr>\n",
              "      <th>4</th>\n",
              "      <td>would really like married christian grey hubb...</td>\n",
              "    </tr>\n",
              "  </tbody>\n",
              "</table>\n",
              "</div><br><label><b>dtype:</b> object</label>"
            ]
          },
          "metadata": {},
          "execution_count": 54
        }
      ]
    },
    {
      "cell_type": "code",
      "source": [
        "test_maxlen = max(len(x.split()) for x in test_sentences.values)\n",
        "print(test_maxlen)"
      ],
      "metadata": {
        "colab": {
          "base_uri": "https://localhost:8080/"
        },
        "id": "7t7GFfpNTpuj",
        "outputId": "26092360-3fe7-43a5-ef71-2d652da91226"
      },
      "execution_count": null,
      "outputs": [
        {
          "output_type": "stream",
          "name": "stdout",
          "text": [
            "133\n"
          ]
        }
      ]
    },
    {
      "cell_type": "code",
      "source": [
        "\n",
        "# fit the Tokenizer for the test dataset\n",
        "test_tokenizer = fit_tokenizer(test_sentences, NUM_WORDS, OOV_TOKEN)\n",
        "\n",
        "# get word_index\n",
        "test_word_index = test_tokenizer.word_index\n",
        "\n",
        "test_padded_seq = seq_and_pad(test_sentences, test_tokenizer, PADDING, MAXLEN)\n",
        "\n",
        "print(f\"Number of words in the test vocabulary: {len(test_word_index)}\\n\")\n",
        "print(f\"Shape of padded testing sequences: {test_padded_seq.shape}\\n\")"
      ],
      "metadata": {
        "colab": {
          "base_uri": "https://localhost:8080/"
        },
        "id": "CcoPqjJKTpyh",
        "outputId": "a264a8f1-cc31-4df4-919f-fa4df9e4aa5d"
      },
      "execution_count": null,
      "outputs": [
        {
          "output_type": "stream",
          "name": "stdout",
          "text": [
            "Number of words in the test vocabulary: 37545\n",
            "\n",
            "Shape of padded testing sequences: (36256, 139)\n",
            "\n"
          ]
        }
      ]
    },
    {
      "cell_type": "markdown",
      "source": [
        "#Now, let's make prediction on the test dataset."
      ],
      "metadata": {
        "id": "zOYnLjG1VVav"
      }
    },
    {
      "cell_type": "code",
      "source": [
        "# make predictions (categories) on the test data\n",
        "predictions = model.predict(test_padded_seq)"
      ],
      "metadata": {
        "colab": {
          "base_uri": "https://localhost:8080/"
        },
        "id": "wUO6VTa8Tp4X",
        "outputId": "1353ac64-a217-4783-8147-3722897c16de"
      },
      "execution_count": null,
      "outputs": [
        {
          "output_type": "stream",
          "name": "stdout",
          "text": [
            "\u001b[1m1133/1133\u001b[0m \u001b[32m━━━━━━━━━━━━━━━━━━━━\u001b[0m\u001b[37m\u001b[0m \u001b[1m17s\u001b[0m 14ms/step\n"
          ]
        }
      ]
    },
    {
      "cell_type": "code",
      "source": [
        "# Get the class with the highest probability for each input sentence\n",
        "predicted_classes = predictions.argmax(axis=1)\n",
        "print(f'Predicted classes:\\n\\n {predicted_classes}')"
      ],
      "metadata": {
        "colab": {
          "base_uri": "https://localhost:8080/"
        },
        "id": "jw_DwAPBVr66",
        "outputId": "536c239f-0eb4-43c0-92e2-96993983c22b"
      },
      "execution_count": null,
      "outputs": [
        {
          "output_type": "stream",
          "name": "stdout",
          "text": [
            "Predicted classes:\n",
            "\n",
            " [ 3  4  2 ...  3 21  9]\n"
          ]
        }
      ]
    },
    {
      "cell_type": "code",
      "source": [
        "predicted_classes[:10]"
      ],
      "metadata": {
        "colab": {
          "base_uri": "https://localhost:8080/"
        },
        "id": "Z3vtSvhZVr-e",
        "outputId": "609be5b3-c048-41cb-ba16-044c4aa4e225"
      },
      "execution_count": null,
      "outputs": [
        {
          "output_type": "execute_result",
          "data": {
            "text/plain": [
              "array([ 3,  4,  2,  2,  1, 11,  4,  1, 32,  5])"
            ]
          },
          "metadata": {},
          "execution_count": 60
        }
      ]
    }
  ],
  "metadata": {
    "accelerator": "GPU",
    "colab": {
      "gpuType": "T4",
      "provenance": []
    },
    "kernelspec": {
      "display_name": "Python 3",
      "name": "python3"
    },
    "language_info": {
      "name": "python"
    }
  },
  "nbformat": 4,
  "nbformat_minor": 0
}